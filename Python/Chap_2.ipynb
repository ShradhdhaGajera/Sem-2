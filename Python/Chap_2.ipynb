{
 "cells": [
  {
   "cell_type": "markdown",
   "id": "9ced1a86",
   "metadata": {},
   "source": [
    "### Python Flow Control & Function\n"
   ]
  },
  {
   "cell_type": "markdown",
   "id": "d8684298",
   "metadata": {},
   "source": [
    "1. Python Flow Control\n",
    "    \n",
    "    A. Python if...else\n",
    "    \n",
    "    B. Python For Loop\n",
    "    \n",
    "    C. Python While Loop\n",
    "    \n",
    "    D. Python break and continue\n",
    "    \n",
    "    E. Python Pass"
   ]
  },
  {
   "cell_type": "markdown",
   "id": "c56aaa23",
   "metadata": {},
   "source": [
    "2. Python Functions\n",
    "\n",
    "    A. Python Function\n",
    "    \n",
    "    B. Function Argument\n",
    "    \n",
    "    C. Python Recursive\n",
    "    \n",
    "    D. Anonymous Function"
   ]
  },
  {
   "cell_type": "markdown",
   "id": "0d975fee",
   "metadata": {},
   "source": [
    "### Python if.....else Statement\n"
   ]
  },
  {
   "cell_type": "code",
   "execution_count": 1,
   "id": "2deb5da5",
   "metadata": {},
   "outputs": [
    {
     "name": "stdout",
     "output_type": "stream",
     "text": [
      "a is grater then b\n",
      "34\n",
      "45 34\n"
     ]
    }
   ],
   "source": [
    "# Example\n",
    "\n",
    "a = 45\n",
    "b = 34\n",
    "if a > b :\n",
    "    print(\"a is grater then b\")\n",
    "    print(b)\n",
    "print(a,b)"
   ]
  },
  {
   "cell_type": "markdown",
   "id": "816bc45d",
   "metadata": {},
   "source": [
    "### Python if....elif....else Statement"
   ]
  },
  {
   "cell_type": "code",
   "execution_count": 2,
   "id": "075007e3",
   "metadata": {},
   "outputs": [
    {
     "name": "stdout",
     "output_type": "stream",
     "text": [
      "r\n"
     ]
    }
   ],
   "source": [
    "# Example \n",
    "\n",
    "a = 'r'\n",
    "b = 'R'\n",
    "c = 'j'\n",
    "\n",
    "if a > b :\n",
    "    print(a)\n",
    "    \n",
    "elif b > c :\n",
    "    print(b)\n",
    "    \n",
    "else :\n",
    "    print(c)"
   ]
  },
  {
   "cell_type": "markdown",
   "id": "8252a9d1",
   "metadata": {},
   "source": [
    "### Python Nested if Statement"
   ]
  },
  {
   "cell_type": "code",
   "execution_count": 3,
   "id": "c548e779",
   "metadata": {},
   "outputs": [
    {
     "name": "stdout",
     "output_type": "stream",
     "text": [
      "Enter a number :20\n",
      "Positive Number\n"
     ]
    }
   ],
   "source": [
    "# Example\n",
    "\n",
    "num = float(input(\"Enter a number :\"))  # input function take on input from keyboard\n",
    "if num >= 0 :\n",
    "    if num == 0 :\n",
    "        print(\"Zero\")\n",
    "    else :\n",
    "        print(\"Positive Number\")\n",
    "else :\n",
    "    print(\"Negative Number\")"
   ]
  },
  {
   "cell_type": "markdown",
   "id": "3223a02f",
   "metadata": {},
   "source": [
    "### Quiz"
   ]
  },
  {
   "cell_type": "code",
   "execution_count": 4,
   "id": "138d1c21",
   "metadata": {},
   "outputs": [
    {
     "name": "stdout",
     "output_type": "stream",
     "text": [
      "b is greater than a\n"
     ]
    }
   ],
   "source": [
    "# Write on output of the following code\n",
    "\n",
    "a = 33\n",
    "b = 200\n",
    "if b > a :\n",
    "    print(\"b is greater than a\")"
   ]
  },
  {
   "cell_type": "code",
   "execution_count": 6,
   "id": "62898067",
   "metadata": {},
   "outputs": [
    {
     "name": "stdout",
     "output_type": "stream",
     "text": [
      " b is grater than a\n"
     ]
    }
   ],
   "source": [
    "# Correct if any error and write  on output of the following code\n",
    "\n",
    "a = 'ram'\n",
    "b = 'sam'\n",
    "if b > a :\n",
    "    print(\" b is grater than a\")\n",
    "elif a == b :\n",
    "    print(\"a and b are equal\")"
   ]
  },
  {
   "cell_type": "code",
   "execution_count": 7,
   "id": "8d3519b1",
   "metadata": {},
   "outputs": [
    {
     "name": "stdout",
     "output_type": "stream",
     "text": [
      "a is grater than b\n"
     ]
    }
   ],
   "source": [
    "a= 20\n",
    "b = 10\n",
    "if a > b : print(\"a is grater than b\")  # right or wrong"
   ]
  },
  {
   "cell_type": "code",
   "execution_count": 8,
   "id": "0c75cb58",
   "metadata": {},
   "outputs": [
    {
     "name": "stdout",
     "output_type": "stream",
     "text": [
      "A\n"
     ]
    }
   ],
   "source": [
    "print(\"A\") if a > b else print(\"B\")   # right or wrong\n"
   ]
  },
  {
   "cell_type": "code",
   "execution_count": 9,
   "id": "8f3d6727",
   "metadata": {},
   "outputs": [
    {
     "ename": "SyntaxError",
     "evalue": "leading zeros in decimal integer literals are not permitted; use an 0o prefix for octal integers (<ipython-input-9-56898a331393>, line 2)",
     "output_type": "error",
     "traceback": [
      "\u001b[1;36m  File \u001b[1;32m\"<ipython-input-9-56898a331393>\"\u001b[1;36m, line \u001b[1;32m2\u001b[0m\n\u001b[1;33m    y = 022\u001b[0m\n\u001b[1;37m          ^\u001b[0m\n\u001b[1;31mSyntaxError\u001b[0m\u001b[1;31m:\u001b[0m leading zeros in decimal integer literals are not permitted; use an 0o prefix for octal integers\n"
     ]
    }
   ],
   "source": [
    "x = 22\n",
    "y = 022\n",
    "print(\"x\") if x > y else print(\"x\")"
   ]
  },
  {
   "cell_type": "code",
   "execution_count": 10,
   "id": "ee93a8ac",
   "metadata": {},
   "outputs": [
    {
     "name": "stdout",
     "output_type": "stream",
     "text": [
      "0\n"
     ]
    }
   ],
   "source": [
    "# The and keyword is a logical operator, and is used to combine conditional statement \n",
    "\n",
    "a = 3\n",
    "b = 2\n",
    "c = 0\n",
    "\n",
    "if a> b and b > c :\n",
    "    print(c)"
   ]
  },
  {
   "cell_type": "code",
   "execution_count": 11,
   "id": "9feef712",
   "metadata": {},
   "outputs": [
    {
     "name": "stdout",
     "output_type": "stream",
     "text": [
      "0\n"
     ]
    }
   ],
   "source": [
    "# The and keyword is a logical operator, and is used to combine conditional statement \n",
    "\n",
    "if a>b or b > c :\n",
    "    print(c)"
   ]
  },
  {
   "cell_type": "markdown",
   "id": "b36cfba5",
   "metadata": {},
   "source": [
    "### The Pass Statement"
   ]
  },
  {
   "cell_type": "code",
   "execution_count": 12,
   "id": "ca4164f2",
   "metadata": {},
   "outputs": [
    {
     "name": "stdout",
     "output_type": "stream",
     "text": [
      " Input value of A :20\n",
      " Input Value of B :40\n"
     ]
    }
   ],
   "source": [
    "a = int(input(\" Input value of A :\"))  # By default input function return string \n",
    "b = int (input(\" Input Value of B :\"))\n"
   ]
  },
  {
   "cell_type": "code",
   "execution_count": 13,
   "id": "ea3c7193",
   "metadata": {},
   "outputs": [
    {
     "data": {
      "text/plain": [
       "int"
      ]
     },
     "execution_count": 13,
     "metadata": {},
     "output_type": "execute_result"
    }
   ],
   "source": [
    "type(a)"
   ]
  },
  {
   "cell_type": "code",
   "execution_count": 14,
   "id": "0c5128b0",
   "metadata": {},
   "outputs": [
    {
     "name": "stdout",
     "output_type": "stream",
     "text": [
      " Input value of A :20\n",
      " Input Value of B :70\n"
     ]
    }
   ],
   "source": [
    "a = int(input(\" Input value of A :\"))  # By default input function return string \n",
    "b = int (input(\" Input Value of B :\"))\n",
    "\n",
    "if b > a :\n",
    "    pass\n",
    "else :\n",
    "    print(b)"
   ]
  },
  {
   "cell_type": "code",
   "execution_count": 15,
   "id": "9f0053af",
   "metadata": {},
   "outputs": [
    {
     "ename": "IndentationError",
     "evalue": "expected an indented block (<ipython-input-15-c1a92cf0e534>, line 6)",
     "output_type": "error",
     "traceback": [
      "\u001b[1;36m  File \u001b[1;32m\"<ipython-input-15-c1a92cf0e534>\"\u001b[1;36m, line \u001b[1;32m6\u001b[0m\n\u001b[1;33m    else :\u001b[0m\n\u001b[1;37m    ^\u001b[0m\n\u001b[1;31mIndentationError\u001b[0m\u001b[1;31m:\u001b[0m expected an indented block\n"
     ]
    }
   ],
   "source": [
    "a = int(input(\" Input value of A :\"))  # By default input function return string \n",
    "b = int (input(\" Input Value of B :\"))\n",
    "\n",
    "if b > a :\n",
    "    \n",
    "else :\n",
    "    print(b)"
   ]
  },
  {
   "cell_type": "markdown",
   "id": "e84c8ae2",
   "metadata": {},
   "source": [
    "### while Loop\n"
   ]
  },
  {
   "cell_type": "code",
   "execution_count": 16,
   "id": "ac6c6910",
   "metadata": {},
   "outputs": [
    {
     "name": "stdout",
     "output_type": "stream",
     "text": [
      "0 Even Number \n",
      "1 Odd Number \n",
      "1\n"
     ]
    }
   ],
   "source": [
    "# While loop with else\n",
    "\n",
    "t = 0\n",
    "while t < 10 and t % 2 == 0 :\n",
    "    print (\"{} Even Number \".format(t))\n",
    "    t = t + 1\n",
    "else :\n",
    "    print (\"{} Odd Number \".format(t))\n",
    "print (t)"
   ]
  },
  {
   "cell_type": "markdown",
   "id": "9b9c0a6a",
   "metadata": {},
   "source": [
    "### Break"
   ]
  },
  {
   "cell_type": "code",
   "execution_count": 17,
   "id": "384ca5eb",
   "metadata": {},
   "outputs": [
    {
     "name": "stdout",
     "output_type": "stream",
     "text": [
      "F\n",
      "o\n",
      "o\n",
      "End\n"
     ]
    }
   ],
   "source": [
    "# Example\n",
    "\n",
    "s = \"Foor loop\"\n",
    "for c in s :\n",
    "    if c > 'p' :\n",
    "        break\n",
    "    print(c)\n",
    "print(\"End\")"
   ]
  },
  {
   "cell_type": "markdown",
   "id": "2c4ebf35",
   "metadata": {},
   "source": [
    "### Continue"
   ]
  },
  {
   "cell_type": "code",
   "execution_count": 18,
   "id": "55895cd8",
   "metadata": {},
   "outputs": [
    {
     "name": "stdout",
     "output_type": "stream",
     "text": [
      "F\n",
      "o\n",
      "o\n",
      " \n",
      "l\n",
      "o\n",
      "o\n",
      "p\n",
      "End\n"
     ]
    }
   ],
   "source": [
    "# Example\n",
    "\n",
    "s = \"Foor loop\"\n",
    "for c in s :\n",
    "    if c > 'p':\n",
    "        continue\n",
    "    print(c)\n",
    "print(\"End\")"
   ]
  },
  {
   "cell_type": "code",
   "execution_count": 76,
   "id": "24e9adb4",
   "metadata": {},
   "outputs": [
    {
     "name": "stdout",
     "output_type": "stream",
     "text": [
      "G\n",
      "J\n",
      "R\n",
      "T\n",
      " \n",
      "v\n",
      "d\n",
      "h\n",
      "y\n",
      "p\n",
      "t\n",
      "h\n"
     ]
    }
   ],
   "source": [
    "# Write a program to print given string except artical\n",
    "\n",
    "str = \"GUJARAT vidhyapith\"\n",
    "\n",
    "list = ['a', 'e', 'i', 'o', 'u','A', 'E', 'I', 'O', 'U']\n",
    "\n",
    "for i in str :\n",
    "    if i in list :\n",
    "        continue\n",
    "    print(i)"
   ]
  },
  {
   "cell_type": "markdown",
   "id": "4b813b7f",
   "metadata": {},
   "source": [
    "### For Loop"
   ]
  },
  {
   "cell_type": "code",
   "execution_count": 20,
   "id": "e291c2bc",
   "metadata": {},
   "outputs": [
    {
     "name": "stdout",
     "output_type": "stream",
     "text": [
      "0\n",
      "1\n",
      "2\n",
      "3\n",
      "4\n",
      "5\n",
      "6\n",
      "7\n",
      "8\n",
      "9\n"
     ]
    }
   ],
   "source": [
    "for i in range(10) :\n",
    "    print(i)"
   ]
  },
  {
   "cell_type": "code",
   "execution_count": 21,
   "id": "a32d32f2",
   "metadata": {},
   "outputs": [
    {
     "name": "stdout",
     "output_type": "stream",
     "text": [
      "0\n",
      "2\n",
      "4\n",
      "6\n",
      "8\n"
     ]
    }
   ],
   "source": [
    "# Even Number\n",
    "\n",
    "for i in range(10) :\n",
    "    if i % 2 == 0 :\n",
    "        print(i)"
   ]
  },
  {
   "cell_type": "code",
   "execution_count": 22,
   "id": "7b5644b1",
   "metadata": {},
   "outputs": [
    {
     "name": "stdout",
     "output_type": "stream",
     "text": [
      "1\n",
      "3\n",
      "5\n",
      "7\n",
      "9\n"
     ]
    }
   ],
   "source": [
    "# Odd Number\n",
    "\n",
    "for i in range(10) :\n",
    "    if i % 2 != 0 :\n",
    "        print(i)"
   ]
  },
  {
   "cell_type": "code",
   "execution_count": 23,
   "id": "f06c0c19",
   "metadata": {},
   "outputs": [
    {
     "name": "stdout",
     "output_type": "stream",
     "text": [
      "1\n",
      "3\n",
      "5\n",
      "7\n",
      "9\n"
     ]
    }
   ],
   "source": [
    "for i in range(1,10,2) :\n",
    "    print(i)"
   ]
  },
  {
   "cell_type": "code",
   "execution_count": 24,
   "id": "3de4974c",
   "metadata": {},
   "outputs": [
    {
     "name": "stdout",
     "output_type": "stream",
     "text": [
      "0\n",
      "2\n",
      "4\n",
      "6\n",
      "8\n"
     ]
    }
   ],
   "source": [
    "for i in range(0,10,2) :\n",
    "    print(i)"
   ]
  },
  {
   "cell_type": "markdown",
   "id": "dcaca157",
   "metadata": {},
   "source": [
    "### Functions"
   ]
  },
  {
   "cell_type": "markdown",
   "id": "32b9906f",
   "metadata": {},
   "source": [
    "#### Types of Functions\n",
    "\n",
    "1. Built-in functions - Functions that are built into python.\n",
    "\n",
    "\n",
    "2. User-defined functions - Functions defined by the users themselves."
   ]
  },
  {
   "cell_type": "markdown",
   "id": "991d9500",
   "metadata": {},
   "source": [
    "#### Syntax "
   ]
  },
  {
   "cell_type": "code",
   "execution_count": 25,
   "id": "7127686e",
   "metadata": {},
   "outputs": [],
   "source": [
    "def function_name(parameteres) :\n",
    "    \n",
    "    \"\"\"docstring\"\"\"\n",
    "    statement(s)"
   ]
  },
  {
   "cell_type": "code",
   "execution_count": 26,
   "id": "966918dc",
   "metadata": {},
   "outputs": [],
   "source": [
    "# Write a function for print string a in reverse\n",
    "\n",
    "def Srev(mystring) :\n",
    "    print(mystring[::-1])"
   ]
  },
  {
   "cell_type": "code",
   "execution_count": 27,
   "id": "480a0b86",
   "metadata": {},
   "outputs": [
    {
     "name": "stdout",
     "output_type": "stream",
     "text": [
      "htipayhdiV tarajuG\n",
      "None\n"
     ]
    }
   ],
   "source": [
    "s = \"Gujarat Vidhyapith\"\n",
    "print(Srev(s))"
   ]
  },
  {
   "cell_type": "markdown",
   "id": "cbedd2a3",
   "metadata": {},
   "source": [
    "### Home Work"
   ]
  },
  {
   "cell_type": "markdown",
   "id": "af43dd0e",
   "metadata": {},
   "source": [
    "#### can we write the function with in the function ?"
   ]
  },
  {
   "cell_type": "code",
   "execution_count": 28,
   "id": "31ad6f88",
   "metadata": {},
   "outputs": [
    {
     "name": "stdout",
     "output_type": "stream",
     "text": [
      "Hello from outer function\n",
      "Hello from inner function\n"
     ]
    }
   ],
   "source": [
    "# outer function\n",
    "def function1():\n",
    "    \n",
    "    print (\"Hello from outer function\")\n",
    "    \n",
    "    # inner function\n",
    "    def function2(): \n",
    "        \n",
    "        print (\"Hello from inner function\")\n",
    "        \n",
    "    function2()\n",
    "\n",
    "function1()"
   ]
  },
  {
   "cell_type": "markdown",
   "id": "104fe9a8",
   "metadata": {},
   "source": [
    "### Docstrings"
   ]
  },
  {
   "cell_type": "code",
   "execution_count": 29,
   "id": "93f0c2ef",
   "metadata": {},
   "outputs": [],
   "source": [
    "def Srevers(string) :\n",
    "    \"\"\"\n",
    "    Function print string in reverse order\n",
    "    Hello\n",
    "    \"\"\"\n",
    "    print (string[::-1])"
   ]
  },
  {
   "cell_type": "code",
   "execution_count": 30,
   "id": "d114a6a9",
   "metadata": {},
   "outputs": [
    {
     "name": "stdout",
     "output_type": "stream",
     "text": [
      "tarajuG\n"
     ]
    }
   ],
   "source": [
    "Srevers('Gujarat')"
   ]
  },
  {
   "cell_type": "code",
   "execution_count": 31,
   "id": "72e05e3b",
   "metadata": {},
   "outputs": [
    {
     "name": "stdout",
     "output_type": "stream",
     "text": [
      "\n",
      "    Function print string in reverse order\n",
      "    Hello\n",
      "    \n"
     ]
    }
   ],
   "source": [
    "print (Srevers.__doc__)"
   ]
  },
  {
   "cell_type": "markdown",
   "id": "6806ce82",
   "metadata": {},
   "source": [
    "### Home Work\n"
   ]
  },
  {
   "cell_type": "markdown",
   "id": "a42277fe",
   "metadata": {},
   "source": [
    "#### Any other way to write docstring ..... ?"
   ]
  },
  {
   "cell_type": "markdown",
   "id": "d6b0f41c",
   "metadata": {},
   "source": [
    "The docstrings are declared using  '''  triple single quotes ''' ."
   ]
  },
  {
   "cell_type": "code",
   "execution_count": 32,
   "id": "d78eb3b7",
   "metadata": {},
   "outputs": [
    {
     "name": "stdout",
     "output_type": "stream",
     "text": [
      "Hello Shradhdha\n"
     ]
    }
   ],
   "source": [
    "def intro() :\n",
    "    \n",
    "    ''' \n",
    "    This Function Print Hello Shradhdha \n",
    "    '''\n",
    "    print(\"Hello Shradhdha\")\n",
    "    \n",
    "intro()"
   ]
  },
  {
   "cell_type": "markdown",
   "id": "67b67a1c",
   "metadata": {},
   "source": [
    "### Home Work"
   ]
  },
  {
   "cell_type": "code",
   "execution_count": 33,
   "id": "dae746a2",
   "metadata": {},
   "outputs": [],
   "source": [
    "# Write a function to find out minimum value from the list\n",
    "\n",
    "def MyMin(x) :\n",
    "    MinValues = x[0]\n",
    "    for i in x :\n",
    "        if i < MinValues :\n",
    "            MinValues = i\n",
    "    return MinValues"
   ]
  },
  {
   "cell_type": "code",
   "execution_count": 34,
   "id": "602ccf19",
   "metadata": {},
   "outputs": [
    {
     "name": "stdout",
     "output_type": "stream",
     "text": [
      "Minimum Value of the list is : 1\n"
     ]
    }
   ],
   "source": [
    "MyList = [2,4,6,1,50,20]\n",
    "\n",
    "print(\"Minimum Value of the list is :\",MyMin(MyList))"
   ]
  },
  {
   "cell_type": "code",
   "execution_count": 35,
   "id": "64f34548",
   "metadata": {},
   "outputs": [],
   "source": [
    "# Write a function to find out maximum value from the list\n",
    "\n",
    "def MyMax(x) :\n",
    "    MaxValues = x[0]\n",
    "    for i in x :\n",
    "        if i > MaxValues :\n",
    "            MaxValues = i\n",
    "    return MaxValues"
   ]
  },
  {
   "cell_type": "code",
   "execution_count": 36,
   "id": "39041d2b",
   "metadata": {},
   "outputs": [
    {
     "name": "stdout",
     "output_type": "stream",
     "text": [
      "Maximum Value of the list is : 150\n"
     ]
    }
   ],
   "source": [
    "MyList = [2,4,6,50,20,150]\n",
    "\n",
    "print(\"Maximum Value of the list is :\",MyMax(MyList))"
   ]
  },
  {
   "cell_type": "code",
   "execution_count": 37,
   "id": "7edd5c19",
   "metadata": {},
   "outputs": [],
   "source": [
    "# Write a function to find out average value from the list\n",
    "\n",
    "def MyAverage(list) :\n",
    "    return sum(list) / len(list)"
   ]
  },
  {
   "cell_type": "code",
   "execution_count": 38,
   "id": "7aacfe96",
   "metadata": {},
   "outputs": [
    {
     "name": "stdout",
     "output_type": "stream",
     "text": [
      "Average of the list is : 50.0\n"
     ]
    }
   ],
   "source": [
    "list = [10, 20, 30, 40, 50, 60, 70, 80, 90]\n",
    "print(\"Average of the list is :\",MyAverage(list))"
   ]
  },
  {
   "cell_type": "code",
   "execution_count": 13,
   "id": "4e6d453a",
   "metadata": {},
   "outputs": [],
   "source": [
    "# Write a function to find out distance\n",
    "\n",
    "def MyDistance() :\n",
    "    \n",
    "     res = ((((x2 - x1 )**2) + ((y2-y1)**2) )**0.5)"
   ]
  },
  {
   "cell_type": "code",
   "execution_count": 14,
   "id": "0536681b",
   "metadata": {},
   "outputs": [
    {
     "ename": "NameError",
     "evalue": "name 'res' is not defined",
     "output_type": "error",
     "traceback": [
      "\u001b[1;31m---------------------------------------------------------------------------\u001b[0m",
      "\u001b[1;31mNameError\u001b[0m                                 Traceback (most recent call last)",
      "\u001b[1;32m<ipython-input-14-a23c3f7edc02>\u001b[0m in \u001b[0;36m<module>\u001b[1;34m\u001b[0m\n\u001b[0;32m     11\u001b[0m \u001b[0mMyDistance\u001b[0m\u001b[1;33m(\u001b[0m\u001b[0mlist\u001b[0m\u001b[1;33m)\u001b[0m\u001b[1;33m\u001b[0m\u001b[1;33m\u001b[0m\u001b[0m\n\u001b[0;32m     12\u001b[0m \u001b[1;33m\u001b[0m\u001b[0m\n\u001b[1;32m---> 13\u001b[1;33m \u001b[0mprint\u001b[0m\u001b[1;33m(\u001b[0m\u001b[1;34m\"Distance Between\"\u001b[0m\u001b[1;33m,\u001b[0m\u001b[1;33m(\u001b[0m\u001b[0mx1\u001b[0m\u001b[1;33m,\u001b[0m\u001b[0mx2\u001b[0m\u001b[1;33m)\u001b[0m\u001b[1;33m,\u001b[0m\u001b[1;34m\"And\"\u001b[0m\u001b[1;33m,\u001b[0m\u001b[1;33m(\u001b[0m\u001b[0my1\u001b[0m\u001b[1;33m,\u001b[0m\u001b[0my2\u001b[0m\u001b[1;33m)\u001b[0m\u001b[1;33m,\u001b[0m\u001b[1;34m\"is : \"\u001b[0m\u001b[1;33m,\u001b[0m\u001b[0mres\u001b[0m\u001b[1;33m)\u001b[0m\u001b[1;33m\u001b[0m\u001b[1;33m\u001b[0m\u001b[0m\n\u001b[0m",
      "\u001b[1;31mNameError\u001b[0m: name 'res' is not defined"
     ]
    }
   ],
   "source": [
    "# x1=int(input(\"Enter Value Of x1 : \"))\n",
    "\n",
    "# x2=int(input(\"Enter Value Of x2 : \"))\n",
    "\n",
    "# y1=int(input(\"Enter Value Of y1 : \"))\n",
    "\n",
    "# y2=int(input(\"Enter Value Of y2 : \"))\n",
    "\n",
    "list = [40, 60, 0, 60]\n",
    "\n",
    "MyDistance()\n",
    "\n",
    "print(\"Distance Between\",(x1,x2),\"And\",(y1,y2),\"is : \",res)"
   ]
  },
  {
   "cell_type": "markdown",
   "id": "33e8ef7e",
   "metadata": {},
   "source": [
    "### Scope and Lifetime of variables"
   ]
  },
  {
   "cell_type": "code",
   "execution_count": 54,
   "id": "edc54802",
   "metadata": {},
   "outputs": [
    {
     "name": "stdout",
     "output_type": "stream",
     "text": [
      "Value of x : global\n"
     ]
    }
   ],
   "source": [
    "# Example - Scope of the variable\n",
    "\n",
    "x = 'global'\n",
    "def square(x) :\n",
    "    return x * x\n",
    "    print(x)\n",
    "print('Value of x :',x)"
   ]
  },
  {
   "cell_type": "code",
   "execution_count": 55,
   "id": "70c7434d",
   "metadata": {},
   "outputs": [
    {
     "data": {
      "text/plain": [
       "25"
      ]
     },
     "execution_count": 55,
     "metadata": {},
     "output_type": "execute_result"
    }
   ],
   "source": [
    "x = 'global'\n",
    "def square(x) :\n",
    "    return x * x\n",
    "    print(x)\n",
    "square(5)\n",
    "\n",
    "# nonLocal x\n",
    "\n",
    "# gLobal x"
   ]
  },
  {
   "cell_type": "code",
   "execution_count": 56,
   "id": "062b5c58",
   "metadata": {},
   "outputs": [
    {
     "name": "stdout",
     "output_type": "stream",
     "text": [
      "global\n",
      "25\n"
     ]
    }
   ],
   "source": [
    "x = 'global'\n",
    "def square(y) :\n",
    "    global x\n",
    "    print(x)\n",
    "    print(y * y)\n",
    "square(5)"
   ]
  },
  {
   "cell_type": "code",
   "execution_count": 57,
   "id": "3f95354c",
   "metadata": {},
   "outputs": [],
   "source": [
    "x = 'global'\n",
    "def square(y) :\n",
    "    return y *y"
   ]
  },
  {
   "cell_type": "code",
   "execution_count": 58,
   "id": "d8513016",
   "metadata": {},
   "outputs": [
    {
     "name": "stdout",
     "output_type": "stream",
     "text": [
      "John\n"
     ]
    }
   ],
   "source": [
    "# nonlocal\n",
    "\n",
    "def myfunc1():\n",
    "  x = \"John\"\n",
    "  def myfunc2():\n",
    "    x = \"hello\"\n",
    "  myfunc2()\n",
    "  return x\n",
    "\n",
    "print(myfunc1())"
   ]
  },
  {
   "cell_type": "markdown",
   "id": "2b246f3e",
   "metadata": {},
   "source": [
    "### Arguments\n"
   ]
  },
  {
   "cell_type": "code",
   "execution_count": 60,
   "id": "375c6083",
   "metadata": {},
   "outputs": [
    {
     "data": {
      "text/plain": [
       "100"
      ]
     },
     "execution_count": 60,
     "metadata": {},
     "output_type": "execute_result"
    }
   ],
   "source": [
    "# Example do_sum\n",
    "\n",
    "square(10)"
   ]
  },
  {
   "cell_type": "code",
   "execution_count": 61,
   "id": "0495e9e0",
   "metadata": {},
   "outputs": [],
   "source": [
    "# Example do_sum\n",
    "\n",
    "def hello(g,name) :\n",
    "    print(\"Hello {} {}\".format(g,name))"
   ]
  },
  {
   "cell_type": "code",
   "execution_count": 62,
   "id": "432ca44f",
   "metadata": {},
   "outputs": [
    {
     "name": "stdout",
     "output_type": "stream",
     "text": [
      "Hello Good Morning Shradhdha\n"
     ]
    }
   ],
   "source": [
    "hello(\"Good Morning\",\"Shradhdha\")"
   ]
  },
  {
   "cell_type": "markdown",
   "id": "089714b5",
   "metadata": {},
   "source": [
    "### Python Default Arguments"
   ]
  },
  {
   "cell_type": "code",
   "execution_count": 63,
   "id": "adea6b88",
   "metadata": {},
   "outputs": [],
   "source": [
    "# Example of optional parameter z= None\n",
    "\n",
    "def add_num(a, b, c=None) :\n",
    "    if (c == None) :\n",
    "        return a + b\n",
    "    else :\n",
    "        return a + b + c"
   ]
  },
  {
   "cell_type": "code",
   "execution_count": 64,
   "id": "20affb20",
   "metadata": {},
   "outputs": [
    {
     "data": {
      "text/plain": [
       "8"
      ]
     },
     "execution_count": 64,
     "metadata": {},
     "output_type": "execute_result"
    }
   ],
   "source": [
    "add_num(1,2,5)"
   ]
  },
  {
   "cell_type": "code",
   "execution_count": 65,
   "id": "3b7be230",
   "metadata": {},
   "outputs": [],
   "source": [
    "# Example of optional parameter z = None flag = True\n",
    "\n",
    "def air_cal(a, b, c = None, flag = True) :\n",
    "    if(flag) :\n",
    "        if(c == None) :\n",
    "            return a + b\n",
    "        else :\n",
    "            return a + b + c\n",
    "    else :\n",
    "        print('Function not Performed')"
   ]
  },
  {
   "cell_type": "code",
   "execution_count": 66,
   "id": "a7baa392",
   "metadata": {},
   "outputs": [
    {
     "data": {
      "text/plain": [
       "6"
      ]
     },
     "execution_count": 66,
     "metadata": {},
     "output_type": "execute_result"
    }
   ],
   "source": [
    "# air_cal(1,2,3,False)\n",
    "\n",
    "air_cal(1,2,3,True)"
   ]
  },
  {
   "cell_type": "markdown",
   "id": "e81ab40f",
   "metadata": {},
   "source": [
    "### Python keyword Arguments\n"
   ]
  },
  {
   "cell_type": "code",
   "execution_count": 67,
   "id": "32a41ba5",
   "metadata": {},
   "outputs": [],
   "source": [
    "# Example of Keyword arguments\n",
    "\n",
    "def air_cal(a, b, c = 'add', flag = True) :\n",
    "    if(flag) :\n",
    "        if(c == 'add') :\n",
    "            return a + b\n",
    "        else :\n",
    "            return a - b\n",
    "    else :\n",
    "        print('Function not Performed')"
   ]
  },
  {
   "cell_type": "code",
   "execution_count": 68,
   "id": "e2cd100c",
   "metadata": {},
   "outputs": [
    {
     "data": {
      "text/plain": [
       "3"
      ]
     },
     "execution_count": 68,
     "metadata": {},
     "output_type": "execute_result"
    }
   ],
   "source": [
    "air_cal(1,2,'add',True)"
   ]
  },
  {
   "cell_type": "code",
   "execution_count": 69,
   "id": "2c182037",
   "metadata": {},
   "outputs": [],
   "source": [
    "def air_cal(a, b, c = 'add', flag = True) :\n",
    "    if(flag) :\n",
    "        if(c == 'add') :\n",
    "            return a + b\n",
    "        else :\n",
    "            return a - b\n",
    "    else :\n",
    "        print('Function not Performed')"
   ]
  },
  {
   "cell_type": "code",
   "execution_count": 70,
   "id": "c84779ed",
   "metadata": {},
   "outputs": [
    {
     "data": {
      "text/plain": [
       "-1"
      ]
     },
     "execution_count": 70,
     "metadata": {},
     "output_type": "execute_result"
    }
   ],
   "source": [
    "air_cal(1,2,'a',True)"
   ]
  },
  {
   "cell_type": "markdown",
   "id": "c276b26b",
   "metadata": {},
   "source": [
    "### Python Recursion "
   ]
  },
  {
   "cell_type": "code",
   "execution_count": 71,
   "id": "20e65953",
   "metadata": {},
   "outputs": [
    {
     "data": {
      "text/plain": [
       "6"
      ]
     },
     "execution_count": 71,
     "metadata": {},
     "output_type": "execute_result"
    }
   ],
   "source": [
    "def fact(no) :\n",
    "    if(no == 1) :\n",
    "        return 1\n",
    "    else :\n",
    "        return no * fact(no - 1)\n",
    "fact (3)"
   ]
  },
  {
   "cell_type": "code",
   "execution_count": 72,
   "id": "b4487b25",
   "metadata": {},
   "outputs": [
    {
     "data": {
      "text/plain": [
       "8.448000000000002"
      ]
     },
     "execution_count": 72,
     "metadata": {},
     "output_type": "execute_result"
    }
   ],
   "source": [
    "def fact(no) :\n",
    "    if(no <= 1) :\n",
    "        return 1\n",
    "    else :\n",
    "        return no * fact(no - 1)\n",
    "fact (3.2)"
   ]
  },
  {
   "cell_type": "code",
   "execution_count": null,
   "id": "f52f7a34",
   "metadata": {},
   "outputs": [],
   "source": [
    "# What is the output of following code\n",
    "\n",
    "def rec() :\n",
    "    rec()\n",
    "rec()"
   ]
  },
  {
   "cell_type": "markdown",
   "id": "9e712f29",
   "metadata": {},
   "source": [
    "### Python Anonymous / Lambda Function"
   ]
  },
  {
   "cell_type": "markdown",
   "id": "9c92b4c0",
   "metadata": {},
   "source": [
    "<b>Syntax\n",
    "\n",
    "lambda arguments : expression"
   ]
  },
  {
   "cell_type": "code",
   "execution_count": 73,
   "id": "d5f38c8d",
   "metadata": {},
   "outputs": [
    {
     "data": {
      "text/plain": [
       "function"
      ]
     },
     "execution_count": 73,
     "metadata": {},
     "output_type": "execute_result"
    }
   ],
   "source": [
    "def square(a) :\n",
    "    return a * a\n",
    "type(square)\n"
   ]
  },
  {
   "cell_type": "code",
   "execution_count": 74,
   "id": "9860f43c",
   "metadata": {},
   "outputs": [
    {
     "data": {
      "text/plain": [
       "25"
      ]
     },
     "execution_count": 74,
     "metadata": {},
     "output_type": "execute_result"
    }
   ],
   "source": [
    "mysquare = lambda x : x * x\n",
    "# type(mysquare)\n",
    "\n",
    "mysquare(5)"
   ]
  },
  {
   "cell_type": "code",
   "execution_count": 1,
   "id": "8cee0500",
   "metadata": {},
   "outputs": [
    {
     "data": {
      "text/plain": [
       "[3, 4, 5, 6]"
      ]
     },
     "execution_count": 1,
     "metadata": {},
     "output_type": "execute_result"
    }
   ],
   "source": [
    "# Example of 'map()' function using lambda in function as an arguments\n",
    "\n",
    "l = [1, 2, 3, 4]\n",
    "l1 = list(map(lambda x : x + 2, l))\n",
    "l1"
   ]
  },
  {
   "cell_type": "markdown",
   "id": "161ff2de",
   "metadata": {},
   "source": [
    "### Quiz"
   ]
  },
  {
   "cell_type": "markdown",
   "id": "2857571b",
   "metadata": {},
   "source": [
    "1. Can function return multiple values ? (y/n)\n",
    "2. If not why ?\n",
    "3. If yes than how what is the return type ."
   ]
  },
  {
   "cell_type": "markdown",
   "id": "2e934d61",
   "metadata": {},
   "source": [
    "#### 1. Can function return multiple values ? (y/n)\n",
    "\n",
    "yes"
   ]
  },
  {
   "cell_type": "markdown",
   "id": "7e8d8093",
   "metadata": {},
   "source": [
    "#### 3. If yes than how what is the return type ."
   ]
  },
  {
   "cell_type": "code",
   "execution_count": 1,
   "id": "955d4778",
   "metadata": {},
   "outputs": [],
   "source": [
    "def calc(a , b) :\n",
    "    return (a + b, a - b, a * b, a / b)"
   ]
  },
  {
   "cell_type": "code",
   "execution_count": 2,
   "id": "e1fae59f",
   "metadata": {},
   "outputs": [
    {
     "name": "stdout",
     "output_type": "stream",
     "text": [
      "(30, 10, 200, 2.0)\n"
     ]
    },
    {
     "data": {
      "text/plain": [
       "tuple"
      ]
     },
     "execution_count": 2,
     "metadata": {},
     "output_type": "execute_result"
    }
   ],
   "source": [
    "a = calc(20,10)\n",
    "print(a)\n",
    "type(a)"
   ]
  },
  {
   "cell_type": "markdown",
   "id": "5aa0c2d0",
   "metadata": {},
   "source": [
    "### Variable number of arguments (Positional Keyword)"
   ]
  },
  {
   "cell_type": "code",
   "execution_count": 3,
   "id": "61ec2e5e",
   "metadata": {},
   "outputs": [],
   "source": [
    "def arithmatic(*no) :\n",
    "    for i in  no :\n",
    "        print(i)\n",
    "    print(len(*no))\n",
    "    print(type(no))"
   ]
  },
  {
   "cell_type": "code",
   "execution_count": 4,
   "id": "27dadb01",
   "metadata": {},
   "outputs": [
    {
     "name": "stdout",
     "output_type": "stream",
     "text": [
      "(10, 20)\n",
      "2\n",
      "<class 'tuple'>\n"
     ]
    },
    {
     "data": {
      "text/plain": [
       "tuple"
      ]
     },
     "execution_count": 4,
     "metadata": {},
     "output_type": "execute_result"
    }
   ],
   "source": [
    "t = (10, 20)\n",
    "arithmatic(t)\n",
    "type(t)"
   ]
  },
  {
   "cell_type": "code",
   "execution_count": 5,
   "id": "4389a735",
   "metadata": {},
   "outputs": [],
   "source": [
    "# Example of positional argument\n",
    "\n",
    "def cal(*no) :\n",
    "    for i in no :\n",
    "        print(i)\n",
    "    print(len(no))"
   ]
  },
  {
   "cell_type": "code",
   "execution_count": 6,
   "id": "8f1571ba",
   "metadata": {},
   "outputs": [
    {
     "name": "stdout",
     "output_type": "stream",
     "text": [
      "(10, 20, 30, 40)\n",
      "1\n"
     ]
    }
   ],
   "source": [
    "t = (10,20,30,40)\n",
    "cal(t)"
   ]
  },
  {
   "cell_type": "code",
   "execution_count": 7,
   "id": "82b10538",
   "metadata": {},
   "outputs": [
    {
     "name": "stdout",
     "output_type": "stream",
     "text": [
      "f >= 60%\n",
      "s >= 49%\n",
      "p  >= 35%\n",
      "F < 35%\n"
     ]
    }
   ],
   "source": [
    "# Example of kwargs argument and both \n",
    "\n",
    "def keyarg(**stu) :\n",
    "    for key, val in stu.items() :\n",
    "        print(key, val)\n",
    "keyarg(f='>= 60%', s='>= 49%',p = ' >= 35%', F='< 35%')"
   ]
  },
  {
   "cell_type": "code",
   "execution_count": 8,
   "id": "45748a91",
   "metadata": {},
   "outputs": [
    {
     "name": "stdout",
     "output_type": "stream",
     "text": [
      "f a\n",
      "s b\n",
      "t c\n"
     ]
    }
   ],
   "source": [
    "def keyarg(**stu) :\n",
    "    for key, val in stu.items() :\n",
    "        print(key, val)\n",
    "keyarg(f='a', s='b', t='c')"
   ]
  },
  {
   "cell_type": "code",
   "execution_count": 9,
   "id": "d00a54d2",
   "metadata": {},
   "outputs": [
    {
     "name": "stdout",
     "output_type": "stream",
     "text": [
      "Pujya\n",
      "first == Mohandas\n",
      "first == Mohandas\n",
      "mid == k\n",
      "mid == k\n",
      "last == Gandhi\n",
      "last == Gandhi\n"
     ]
    }
   ],
   "source": [
    "def myFun(s, **kwargs) :\n",
    "    print(s)\n",
    "    for key,val in kwargs.items() :\n",
    "        print(\"%s == %s\" %(key,val))\n",
    "        print(\"{} == {}\".format(key,val))\n",
    "# Driver code\n",
    "\n",
    "myFun('Pujya', first = 'Mohandas', mid = 'k', last ='Gandhi')"
   ]
  },
  {
   "cell_type": "code",
   "execution_count": null,
   "id": "c1986c9a",
   "metadata": {},
   "outputs": [],
   "source": []
  }
 ],
 "metadata": {
  "kernelspec": {
   "display_name": "Python 3",
   "language": "python",
   "name": "python3"
  },
  "language_info": {
   "codemirror_mode": {
    "name": "ipython",
    "version": 3
   },
   "file_extension": ".py",
   "mimetype": "text/x-python",
   "name": "python",
   "nbconvert_exporter": "python",
   "pygments_lexer": "ipython3",
   "version": "3.9.2"
  }
 },
 "nbformat": 4,
 "nbformat_minor": 5
}
