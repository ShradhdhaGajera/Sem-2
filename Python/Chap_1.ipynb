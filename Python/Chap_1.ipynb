{
 "cells": [
  {
   "cell_type": "markdown",
   "id": "763afc96",
   "metadata": {},
   "source": [
    "### First python program"
   ]
  },
  {
   "cell_type": "code",
   "execution_count": 6,
   "id": "385d373b",
   "metadata": {},
   "outputs": [
    {
     "name": "stdout",
     "output_type": "stream",
     "text": [
      "Hello\n"
     ]
    }
   ],
   "source": [
    "gretting =\"Hello\"\n",
    "print(gretting)"
   ]
  },
  {
   "cell_type": "markdown",
   "id": "c7caf75b",
   "metadata": {},
   "source": [
    "### Variable"
   ]
  },
  {
   "cell_type": "code",
   "execution_count": 4,
   "id": "0c9194b5",
   "metadata": {},
   "outputs": [
    {
     "data": {
      "text/plain": [
       "str"
      ]
     },
     "execution_count": 4,
     "metadata": {},
     "output_type": "execute_result"
    }
   ],
   "source": [
    "s='Hello Word'\n",
    "i=10\n",
    "f=10.0\n",
    "F=50.4\n",
    "b=True\n",
    "\n",
    "type(s) #Type is function to check variable type"
   ]
  },
  {
   "cell_type": "markdown",
   "id": "38bd19ca",
   "metadata": {},
   "source": [
    "### Rules For Variable Name"
   ]
  },
  {
   "cell_type": "code",
   "execution_count": 1,
   "id": "76a20766",
   "metadata": {},
   "outputs": [
    {
     "ename": "SyntaxError",
     "evalue": "invalid syntax (<ipython-input-1-d6f2b9a4954f>, line 3)",
     "output_type": "error",
     "traceback": [
      "\u001b[1;36m  File \u001b[1;32m\"<ipython-input-1-d6f2b9a4954f>\"\u001b[1;36m, line \u001b[1;32m3\u001b[0m\n\u001b[1;33m    1no = 10   # Start with number\u001b[0m\n\u001b[1;37m     ^\u001b[0m\n\u001b[1;31mSyntaxError\u001b[0m\u001b[1;31m:\u001b[0m invalid syntax\n"
     ]
    }
   ],
   "source": [
    "# Write five invalid variable name \n",
    "\n",
    "1no = 10   # Start with number\n",
    "while = 20   # Keyword name\n",
    "@name = 'Shradhdha'   # Starting with special symbol\n",
    "My - name = 'Kiyana'   # Cannot assign to operator\n",
    "Python Operator = 'Arithmatic'   # Not allow space"
   ]
  },
  {
   "cell_type": "code",
   "execution_count": 2,
   "id": "328b42a8",
   "metadata": {},
   "outputs": [
    {
     "data": {
      "text/plain": [
       "'Hello Word'"
      ]
     },
     "execution_count": 2,
     "metadata": {},
     "output_type": "execute_result"
    }
   ],
   "source": [
    "# Write Five Valid Variable Name\n",
    "\n",
    "_Myvar = 'First'   # Start with underscore\n",
    "name = 'neil'   # Start with letter\n",
    "Age2 = 22   # Ends with numbers\n",
    "AGE = 25   # Uppercase letter\n",
    "str_ = 'Hello Word'   # Ends with underscore\n",
    "str_"
   ]
  },
  {
   "cell_type": "markdown",
   "id": "f5f59d82",
   "metadata": {},
   "source": [
    "### Python Data Type"
   ]
  },
  {
   "cell_type": "code",
   "execution_count": 5,
   "id": "ac4a9581",
   "metadata": {},
   "outputs": [
    {
     "data": {
      "text/plain": [
       "True"
      ]
     },
     "execution_count": 5,
     "metadata": {},
     "output_type": "execute_result"
    }
   ],
   "source": [
    " # Focused on integer, Float, String and boolen only\n",
    " # Type() function\n",
    " # s = \"xyz\"\n",
    " type(s) == str"
   ]
  },
  {
   "cell_type": "markdown",
   "id": "6c3b7063",
   "metadata": {},
   "source": [
    "### Boolean"
   ]
  },
  {
   "cell_type": "code",
   "execution_count": 6,
   "id": "794536be",
   "metadata": {},
   "outputs": [
    {
     "data": {
      "text/plain": [
       "False"
      ]
     },
     "execution_count": 6,
     "metadata": {},
     "output_type": "execute_result"
    }
   ],
   "source": [
    "True or False # Logical disjunction\n",
    "False or False"
   ]
  },
  {
   "cell_type": "code",
   "execution_count": 7,
   "id": "46df96c4",
   "metadata": {},
   "outputs": [
    {
     "data": {
      "text/plain": [
       "False"
      ]
     },
     "execution_count": 7,
     "metadata": {},
     "output_type": "execute_result"
    }
   ],
   "source": [
    "True and False # Logical disjunction"
   ]
  },
  {
   "cell_type": "code",
   "execution_count": 8,
   "id": "dd82abbc",
   "metadata": {},
   "outputs": [
    {
     "data": {
      "text/plain": [
       "0"
      ]
     },
     "execution_count": 8,
     "metadata": {},
     "output_type": "execute_result"
    }
   ],
   "source": [
    "True and 0"
   ]
  },
  {
   "cell_type": "code",
   "execution_count": 9,
   "id": "49c0f38b",
   "metadata": {},
   "outputs": [
    {
     "data": {
      "text/plain": [
       "False"
      ]
     },
     "execution_count": 9,
     "metadata": {},
     "output_type": "execute_result"
    }
   ],
   "source": [
    "not True # Logical negation"
   ]
  },
  {
   "cell_type": "code",
   "execution_count": 10,
   "id": "72ea4baa",
   "metadata": {},
   "outputs": [
    {
     "data": {
      "text/plain": [
       "8"
      ]
     },
     "execution_count": 10,
     "metadata": {},
     "output_type": "execute_result"
    }
   ],
   "source": [
    "# write an output\n",
    "c = True + 4\n",
    "c= c + 3\n",
    "c"
   ]
  },
  {
   "cell_type": "markdown",
   "id": "be75d749",
   "metadata": {},
   "source": [
    "### Quiz"
   ]
  },
  {
   "cell_type": "code",
   "execution_count": 11,
   "id": "fe53c782",
   "metadata": {},
   "outputs": [
    {
     "name": "stdout",
     "output_type": "stream",
     "text": [
      "False\n"
     ]
    }
   ],
   "source": [
    "print([] or False)"
   ]
  },
  {
   "cell_type": "code",
   "execution_count": 12,
   "id": "84299c26",
   "metadata": {},
   "outputs": [
    {
     "name": "stdout",
     "output_type": "stream",
     "text": [
      "Hello\n"
     ]
    }
   ],
   "source": [
    "print(False or 'Hello')"
   ]
  },
  {
   "cell_type": "code",
   "execution_count": 13,
   "id": "ac700bbd",
   "metadata": {},
   "outputs": [
    {
     "name": "stdout",
     "output_type": "stream",
     "text": [
      "2.5\n"
     ]
    }
   ],
   "source": [
    "print(2.5 or False)"
   ]
  },
  {
   "cell_type": "code",
   "execution_count": 14,
   "id": "cc99f6e0",
   "metadata": {},
   "outputs": [
    {
     "name": "stdout",
     "output_type": "stream",
     "text": [
      "1\n"
     ]
    }
   ],
   "source": [
    "print(True and 1)"
   ]
  },
  {
   "cell_type": "code",
   "execution_count": 15,
   "id": "7963a942",
   "metadata": {},
   "outputs": [
    {
     "name": "stdout",
     "output_type": "stream",
     "text": [
      "K\n"
     ]
    }
   ],
   "source": [
    "print (True and 'K')"
   ]
  },
  {
   "cell_type": "code",
   "execution_count": 16,
   "id": "30143cbf",
   "metadata": {},
   "outputs": [
    {
     "ename": "NameError",
     "evalue": "name 'k' is not defined",
     "output_type": "error",
     "traceback": [
      "\u001b[1;31m---------------------------------------------------------------------------\u001b[0m",
      "\u001b[1;31mNameError\u001b[0m                                 Traceback (most recent call last)",
      "\u001b[1;32m<ipython-input-16-e70e8cb28bfa>\u001b[0m in \u001b[0;36m<module>\u001b[1;34m\u001b[0m\n\u001b[1;32m----> 1\u001b[1;33m \u001b[0mprint\u001b[0m\u001b[1;33m(\u001b[0m\u001b[0mk\u001b[0m \u001b[1;32mand\u001b[0m \u001b[0mk\u001b[0m\u001b[1;33m)\u001b[0m\u001b[1;33m\u001b[0m\u001b[1;33m\u001b[0m\u001b[0m\n\u001b[0m",
      "\u001b[1;31mNameError\u001b[0m: name 'k' is not defined"
     ]
    }
   ],
   "source": [
    "print(k and k)"
   ]
  },
  {
   "cell_type": "code",
   "execution_count": 17,
   "id": "42478fe8",
   "metadata": {},
   "outputs": [
    {
     "name": "stdout",
     "output_type": "stream",
     "text": [
      "0\n"
     ]
    }
   ],
   "source": [
    "print(0 and r)"
   ]
  },
  {
   "cell_type": "markdown",
   "id": "79954902",
   "metadata": {},
   "source": [
    "### String"
   ]
  },
  {
   "cell_type": "code",
   "execution_count": 18,
   "id": "6b9bde46",
   "metadata": {},
   "outputs": [
    {
     "ename": "TypeError",
     "evalue": "'str' object does not support item assignment",
     "output_type": "error",
     "traceback": [
      "\u001b[1;31m---------------------------------------------------------------------------\u001b[0m",
      "\u001b[1;31mTypeError\u001b[0m                                 Traceback (most recent call last)",
      "\u001b[1;32m<ipython-input-18-e2df1642ac31>\u001b[0m in \u001b[0;36m<module>\u001b[1;34m\u001b[0m\n\u001b[0;32m      1\u001b[0m \u001b[0ms\u001b[0m \u001b[1;33m=\u001b[0m \u001b[1;34m\"string\"\u001b[0m\u001b[1;33m\u001b[0m\u001b[1;33m\u001b[0m\u001b[0m\n\u001b[0;32m      2\u001b[0m \u001b[0ms\u001b[0m \u001b[1;33m=\u001b[0m \u001b[1;34m\"vidhyapith\"\u001b[0m\u001b[1;33m\u001b[0m\u001b[1;33m\u001b[0m\u001b[0m\n\u001b[1;32m----> 3\u001b[1;33m \u001b[0ms\u001b[0m\u001b[1;33m[\u001b[0m\u001b[1;36m0\u001b[0m\u001b[1;33m]\u001b[0m \u001b[1;33m=\u001b[0m \u001b[1;34m\"V\"\u001b[0m\u001b[1;33m\u001b[0m\u001b[1;33m\u001b[0m\u001b[0m\n\u001b[0m",
      "\u001b[1;31mTypeError\u001b[0m: 'str' object does not support item assignment"
     ]
    }
   ],
   "source": [
    "s = \"string\"\n",
    "s = \"vidhyapith\"\n",
    "s[0] = \"V\""
   ]
  },
  {
   "cell_type": "code",
   "execution_count": 19,
   "id": "9f861630",
   "metadata": {},
   "outputs": [
    {
     "name": "stdout",
     "output_type": "stream",
     "text": [
      "gvp\n"
     ]
    }
   ],
   "source": [
    "# Example \n",
    "\n",
    "print(\"gvp\") # print outputs text to the screen (discarding the quotes)."
   ]
  },
  {
   "cell_type": "code",
   "execution_count": 21,
   "id": "ab32907a",
   "metadata": {},
   "outputs": [
    {
     "data": {
      "text/plain": [
       "'gvpAhmedabad'"
      ]
     },
     "execution_count": 21,
     "metadata": {},
     "output_type": "execute_result"
    }
   ],
   "source": [
    "# string concatinations special use of '+' operator\n",
    "'gvp-' + 'ahmedabad campus'\n",
    "\n",
    "# What is the output of following expression\n",
    "# 'gvp' + \"Ahmedabad\""
   ]
  },
  {
   "cell_type": "code",
   "execution_count": 22,
   "id": "74cd435a",
   "metadata": {},
   "outputs": [
    {
     "data": {
      "text/plain": [
       "' જય હિન્દ  જય હિન્દ  જય હિન્દ '"
      ]
     },
     "execution_count": 22,
     "metadata": {},
     "output_type": "execute_result"
    }
   ],
   "source": [
    "# What is the output of the following expression\n",
    "\n",
    "ક = ' જય હિન્દ ' * 3\n",
    "ક"
   ]
  },
  {
   "cell_type": "code",
   "execution_count": 23,
   "id": "7a44a8b1",
   "metadata": {},
   "outputs": [
    {
     "name": "stdout",
     "output_type": "stream",
     "text": [
      "I Love My Country 'india'\n"
     ]
    }
   ],
   "source": [
    "# Embedding quote mark within a String.\n",
    "print (\"I Love My Country 'india'\")\n",
    "# print ('I Love My Country 'india'')"
   ]
  },
  {
   "cell_type": "code",
   "execution_count": 24,
   "id": "575cf240",
   "metadata": {},
   "outputs": [
    {
     "name": "stdout",
     "output_type": "stream",
     "text": [
      "Gujarat\tIndia\n"
     ]
    },
    {
     "data": {
      "text/plain": [
       "'Gujarat\\nIndia'"
      ]
     },
     "execution_count": 24,
     "metadata": {},
     "output_type": "execute_result"
    }
   ],
   "source": [
    "s1 = \"Gujarat\\nIndia\"\n",
    "# print(s1)\n",
    "\n",
    "s2 = \"Gujarat\\tIndia\"\n",
    "print(s2)\n",
    "\n",
    "s1"
   ]
  },
  {
   "cell_type": "code",
   "execution_count": 25,
   "id": "d1e47760",
   "metadata": {},
   "outputs": [
    {
     "data": {
      "text/plain": [
       "'Gjrtvdypt'"
      ]
     },
     "execution_count": 25,
     "metadata": {},
     "output_type": "execute_result"
    }
   ],
   "source": [
    "# Write an output of the following code\n",
    "\n",
    "un ='Gujarat vidhyapith'\n",
    "\n",
    "# un[0]\n",
    "# un[0:3]\n",
    "# un[3:]\n",
    "# un[-1]\n",
    "# un[-1:]\n",
    "# un[-14:]\n",
    "# un[12:-2]\n",
    "# un[2:-12]\n",
    "# un[1:5]\n",
    "# un[1:5:2]\n",
    "un[::2]\n",
    "# un[0::2]\n",
    "# un[1::2]\n",
    "# un[::-1] \n",
    "# Print reverse string or reversing a string by reading it backwards.\n",
    "# un.split()\n",
    "\n"
   ]
  },
  {
   "cell_type": "code",
   "execution_count": 26,
   "id": "a8af77b2",
   "metadata": {},
   "outputs": [
    {
     "ename": "TypeError",
     "evalue": "'str' object does not support item assignment",
     "output_type": "error",
     "traceback": [
      "\u001b[1;31m---------------------------------------------------------------------------\u001b[0m",
      "\u001b[1;31mTypeError\u001b[0m                                 Traceback (most recent call last)",
      "\u001b[1;32m<ipython-input-26-33d7919c725f>\u001b[0m in \u001b[0;36m<module>\u001b[1;34m\u001b[0m\n\u001b[1;32m----> 1\u001b[1;33m \u001b[0mun\u001b[0m\u001b[1;33m[\u001b[0m\u001b[1;36m0\u001b[0m\u001b[1;33m]\u001b[0m \u001b[1;33m=\u001b[0m \u001b[1;34m'g'\u001b[0m  \u001b[1;31m#True or False\u001b[0m\u001b[1;33m\u001b[0m\u001b[1;33m\u001b[0m\u001b[0m\n\u001b[0m",
      "\u001b[1;31mTypeError\u001b[0m: 'str' object does not support item assignment"
     ]
    }
   ],
   "source": [
    "un[0] = 'g'  #True or False"
   ]
  },
  {
   "cell_type": "markdown",
   "id": "df7dbfd5",
   "metadata": {},
   "source": [
    "### String Methods"
   ]
  },
  {
   "cell_type": "code",
   "execution_count": 28,
   "id": "159d44c1",
   "metadata": {},
   "outputs": [
    {
     "data": {
      "text/plain": [
       "3"
      ]
     },
     "execution_count": 28,
     "metadata": {},
     "output_type": "execute_result"
    }
   ],
   "source": [
    "# Convert all letters to uppercase and lowercase.\n",
    "#un.upper()\n",
    "#un.lower()\n",
    "#un.capitalize()\n",
    "\n",
    "# count\n",
    "un.count('a')\n",
    "\n",
    "# index\n",
    "#un.index('Vid')\n",
    "\n",
    "# replace all occure-rences of one substring withanother substring.\n",
    "#s='replace'\n",
    "#s.replace('s' , 'c')\n",
    "#s ????????? output"
   ]
  },
  {
   "cell_type": "code",
   "execution_count": 29,
   "id": "5f262f80",
   "metadata": {},
   "outputs": [
    {
     "data": {
      "text/plain": [
       "['Gujarat', 'vidhyapith']"
      ]
     },
     "execution_count": 29,
     "metadata": {},
     "output_type": "execute_result"
    }
   ],
   "source": [
    "# Splits a string into a list of words.\n",
    "un.split()"
   ]
  },
  {
   "cell_type": "markdown",
   "id": "df90cea8",
   "metadata": {},
   "source": [
    "### Formatting Strings\n"
   ]
  },
  {
   "cell_type": "code",
   "execution_count": 30,
   "id": "13d1a95d",
   "metadata": {},
   "outputs": [
    {
     "name": "stdout",
     "output_type": "stream",
     "text": [
      "12 20.5\n"
     ]
    }
   ],
   "source": [
    "# \"{} {}\".format(\"a\" , \"b\")  # \"Replacement fields\" {} are filled in order by format.\n",
    "i , j = 12, 20.5\n",
    "print (\"{} {}\".format(i , j))"
   ]
  },
  {
   "cell_type": "code",
   "execution_count": 31,
   "id": "e5d78ed8",
   "metadata": {},
   "outputs": [
    {
     "name": "stdout",
     "output_type": "stream",
     "text": [
      "20.5 12\n"
     ]
    }
   ],
   "source": [
    "# The arguments to format can also be identified by position, starting at 0.\n",
    "i , j = 12, 20.5\n",
    "print (\"{1} {0}\".format(i , j))"
   ]
  },
  {
   "cell_type": "markdown",
   "id": "95e2beef",
   "metadata": {},
   "source": [
    "### Format specifications for the field width and padding are provided after a colon ':'.\n"
   ]
  },
  {
   "cell_type": "code",
   "execution_count": 32,
   "id": "e9dca0cd",
   "metadata": {},
   "outputs": [
    {
     "name": "stdout",
     "output_type": "stream",
     "text": [
      "9ab 2\n"
     ]
    }
   ],
   "source": [
    "print (\"{} {}\".format(\"9ab\" , 2)) # using a field of width 5  with the default padding."
   ]
  },
  {
   "cell_type": "code",
   "execution_count": 33,
   "id": "17b46b26",
   "metadata": {},
   "outputs": [
    {
     "name": "stdout",
     "output_type": "stream",
     "text": [
      "  9ab 2\n"
     ]
    }
   ],
   "source": [
    "print (\"{:>5} {}\".format(\"9ab\" , 2)) # To pad on left, use :>n. n = 5 field width."
   ]
  },
  {
   "cell_type": "code",
   "execution_count": 34,
   "id": "9e9ebbfe",
   "metadata": {},
   "outputs": [
    {
     "name": "stdout",
     "output_type": "stream",
     "text": [
      "9ab   2\n"
     ]
    }
   ],
   "source": [
    "print (\"{:<5} {}\".format(\"9ab\" , 2)) # To pad on left, use :>n. n = 5 field width."
   ]
  },
  {
   "cell_type": "markdown",
   "id": "710f2d97",
   "metadata": {},
   "source": [
    "### Format specifications for numerical data to be neatly printed and aligned.\n"
   ]
  },
  {
   "cell_type": "code",
   "execution_count": 35,
   "id": "776785a9",
   "metadata": {},
   "outputs": [
    {
     "name": "stdout",
     "output_type": "stream",
     "text": [
      " 3.14\n"
     ]
    }
   ],
   "source": [
    "pi = 3.1416\n",
    "print(\"{:5.2f}\".format(pi))  # Print pi in a field 5 to 2 decimal places"
   ]
  },
  {
   "cell_type": "code",
   "execution_count": 36,
   "id": "41bf57b5",
   "metadata": {},
   "outputs": [
    {
     "name": "stdout",
     "output_type": "stream",
     "text": [
      "  3.1416  \n"
     ]
    }
   ],
   "source": [
    "print(\"{:^10.4f}\".format(pi))  # Padding can be combined with other options if the padding is specified."
   ]
  },
  {
   "cell_type": "markdown",
   "id": "0b536071",
   "metadata": {},
   "source": [
    "### Type Conversions"
   ]
  },
  {
   "cell_type": "code",
   "execution_count": 37,
   "id": "ebaea5dc",
   "metadata": {},
   "outputs": [
    {
     "data": {
      "text/plain": [
       "10.0"
      ]
     },
     "execution_count": 37,
     "metadata": {},
     "output_type": "execute_result"
    }
   ],
   "source": [
    "# ints to flots can be cast to complex numbers, but invers is not true\n",
    "# Example\n",
    "i = float(\"10\")  # Float is class constructor - this is called casting\n",
    "i\n",
    "#type(i)"
   ]
  },
  {
   "cell_type": "markdown",
   "id": "18c9aa2c",
   "metadata": {},
   "source": [
    "### Containers"
   ]
  },
  {
   "cell_type": "markdown",
   "id": "5e533844",
   "metadata": {},
   "source": [
    "1. list for lists\n",
    "2. tuple for tuples\n",
    "3. range for ranges\n",
    "4. dict for dictionaries\n",
    "5. set for sets"
   ]
  },
  {
   "cell_type": "markdown",
   "id": "fcf9a9ee",
   "metadata": {},
   "source": [
    "### Lists\n"
   ]
  },
  {
   "cell_type": "code",
   "execution_count": 38,
   "id": "b72f17b9",
   "metadata": {},
   "outputs": [],
   "source": [
    "# Two ways to create a list\n",
    "\n",
    "l1 = [] # One way - Use square brackets to create a list\n",
    "\n",
    "l2 = list() # 2nd way - Using list constructor"
   ]
  },
  {
   "cell_type": "code",
   "execution_count": 39,
   "id": "71ffbc48",
   "metadata": {},
   "outputs": [
    {
     "data": {
      "text/plain": [
       "[1, 'a', 2.4, True]"
      ]
     },
     "execution_count": 39,
     "metadata": {},
     "output_type": "execute_result"
    }
   ],
   "source": [
    "l3 = [1, 'a', 2.4, True]\n",
    "l3"
   ]
  },
  {
   "cell_type": "code",
   "execution_count": 40,
   "id": "c09867f3",
   "metadata": {},
   "outputs": [
    {
     "data": {
      "text/plain": [
       "2.4"
      ]
     },
     "execution_count": 40,
     "metadata": {},
     "output_type": "execute_result"
    }
   ],
   "source": [
    "# Write the output of following\n",
    "l3[2]"
   ]
  },
  {
   "cell_type": "code",
   "execution_count": 41,
   "id": "369d9c6a",
   "metadata": {},
   "outputs": [
    {
     "data": {
      "text/plain": [
       "4"
      ]
     },
     "execution_count": 41,
     "metadata": {},
     "output_type": "execute_result"
    }
   ],
   "source": [
    "len(l3)"
   ]
  },
  {
   "cell_type": "code",
   "execution_count": 42,
   "id": "c97b0740",
   "metadata": {},
   "outputs": [
    {
     "name": "stdout",
     "output_type": "stream",
     "text": [
      "[1, 'a', 2.4, True]\n"
     ]
    },
    {
     "data": {
      "text/plain": [
       "list"
      ]
     },
     "execution_count": 42,
     "metadata": {},
     "output_type": "execute_result"
    }
   ],
   "source": [
    "# What is the output of the following command\n",
    "\n",
    "# l3\n",
    "print(l3)\n",
    "type(list(l3))\n",
    "# type(l3)"
   ]
  },
  {
   "cell_type": "code",
   "execution_count": 46,
   "id": "c6906d38",
   "metadata": {},
   "outputs": [
    {
     "data": {
      "text/plain": [
       "2.4"
      ]
     },
     "execution_count": 46,
     "metadata": {},
     "output_type": "execute_result"
    }
   ],
   "source": [
    "# What is the output of following statements\n",
    "\n",
    "s1 = \"gujarat\"\n",
    "# S1[0]\n",
    "l3[2]\n",
    "# L3[0]\n",
    "\n",
    "# What is your conclusion - List is order container "
   ]
  },
  {
   "cell_type": "code",
   "execution_count": 47,
   "id": "602ac942",
   "metadata": {},
   "outputs": [
    {
     "ename": "IndexError",
     "evalue": "list assignment index out of range",
     "output_type": "error",
     "traceback": [
      "\u001b[1;31m---------------------------------------------------------------------------\u001b[0m",
      "\u001b[1;31mIndexError\u001b[0m                                Traceback (most recent call last)",
      "\u001b[1;32m<ipython-input-47-8d6f3c1108b1>\u001b[0m in \u001b[0;36m<module>\u001b[1;34m\u001b[0m\n\u001b[0;32m      2\u001b[0m \u001b[1;33m\u001b[0m\u001b[0m\n\u001b[0;32m      3\u001b[0m \u001b[0ml3\u001b[0m\u001b[1;33m[\u001b[0m\u001b[1;36m1\u001b[0m\u001b[1;33m]\u001b[0m \u001b[1;33m=\u001b[0m \u001b[1;34m'A'\u001b[0m\u001b[1;33m\u001b[0m\u001b[1;33m\u001b[0m\u001b[0m\n\u001b[1;32m----> 4\u001b[1;33m \u001b[0ml3\u001b[0m\u001b[1;33m[\u001b[0m\u001b[1;36m4\u001b[0m\u001b[1;33m]\u001b[0m \u001b[1;33m=\u001b[0m \u001b[1;34m'Extra'\u001b[0m\u001b[1;33m\u001b[0m\u001b[1;33m\u001b[0m\u001b[0m\n\u001b[0m\u001b[0;32m      5\u001b[0m \u001b[0ml3\u001b[0m\u001b[1;33m\u001b[0m\u001b[1;33m\u001b[0m\u001b[0m\n",
      "\u001b[1;31mIndexError\u001b[0m: list assignment index out of range"
     ]
    }
   ],
   "source": [
    "# What will be output of the following statements \n",
    "\n",
    "l3[1] = 'A'\n",
    "l3[4] = 'Extra'\n",
    "l3"
   ]
  },
  {
   "cell_type": "code",
   "execution_count": 48,
   "id": "ccb9d3ee",
   "metadata": {},
   "outputs": [
    {
     "data": {
      "text/plain": [
       "[1, 'A', 2.4, True, 'new elements']"
      ]
     },
     "execution_count": 48,
     "metadata": {},
     "output_type": "execute_result"
    }
   ],
   "source": [
    "l3.append('new elements')\n",
    "l3"
   ]
  },
  {
   "cell_type": "code",
   "execution_count": 49,
   "id": "ef3a48aa",
   "metadata": {},
   "outputs": [
    {
     "data": {
      "text/plain": [
       "[1, 'A', 'B', 2.4, True, 'new elements']"
      ]
     },
     "execution_count": 49,
     "metadata": {},
     "output_type": "execute_result"
    }
   ],
   "source": [
    "l3.insert(2,\"B\")\n",
    "l3"
   ]
  },
  {
   "cell_type": "code",
   "execution_count": 50,
   "id": "7c114527",
   "metadata": {},
   "outputs": [
    {
     "data": {
      "text/plain": [
       "['A', 'B', 2.4, True, 'new elements']"
      ]
     },
     "execution_count": 50,
     "metadata": {},
     "output_type": "execute_result"
    }
   ],
   "source": [
    "l3.remove(1)\n",
    "l3"
   ]
  },
  {
   "cell_type": "code",
   "execution_count": 51,
   "id": "a0387ee2",
   "metadata": {},
   "outputs": [
    {
     "data": {
      "text/plain": [
       "[1, 2, 3, 4]"
      ]
     },
     "execution_count": 51,
     "metadata": {},
     "output_type": "execute_result"
    }
   ],
   "source": [
    "l4 = [1,2,3,4]\n",
    "l4"
   ]
  },
  {
   "cell_type": "code",
   "execution_count": 52,
   "id": "5dcc7b21",
   "metadata": {},
   "outputs": [
    {
     "data": {
      "text/plain": [
       "['A', 'B', 2.4, True, 'new elements', 1, 2, 3, 4]"
      ]
     },
     "execution_count": 52,
     "metadata": {},
     "output_type": "execute_result"
    }
   ],
   "source": [
    "l5 = l3 + l4  # Adding two lists makes a new list by concatenation.\n",
    "l5"
   ]
  },
  {
   "cell_type": "code",
   "execution_count": 53,
   "id": "e2062875",
   "metadata": {},
   "outputs": [
    {
     "data": {
      "text/plain": [
       "['A',\n",
       " 'B',\n",
       " 2.4,\n",
       " True,\n",
       " 'new elements',\n",
       " 'A',\n",
       " 'B',\n",
       " 2.4,\n",
       " True,\n",
       " 'new elements',\n",
       " 'A',\n",
       " 'B',\n",
       " 2.4,\n",
       " True,\n",
       " 'new elements']"
      ]
     },
     "execution_count": 53,
     "metadata": {},
     "output_type": "execute_result"
    }
   ],
   "source": [
    "l6 = l3 * 3  # Multiplying a list by an integer repeats the list\n",
    "l6"
   ]
  },
  {
   "cell_type": "code",
   "execution_count": 54,
   "id": "71555659",
   "metadata": {},
   "outputs": [
    {
     "data": {
      "text/plain": [
       "[True, 'new elements']"
      ]
     },
     "execution_count": 54,
     "metadata": {},
     "output_type": "execute_result"
    }
   ],
   "source": [
    "# List slicing, start at position 3, through to the end.\n",
    "l3[3:]"
   ]
  },
  {
   "cell_type": "code",
   "execution_count": 55,
   "id": "6b987237",
   "metadata": {},
   "outputs": [
    {
     "data": {
      "text/plain": [
       "['A', 'B', 2.4]"
      ]
     },
     "execution_count": 55,
     "metadata": {},
     "output_type": "execute_result"
    }
   ],
   "source": [
    "# Answer the following question\n",
    "l3[:-2]"
   ]
  },
  {
   "cell_type": "code",
   "execution_count": 56,
   "id": "ae14613b",
   "metadata": {},
   "outputs": [
    {
     "data": {
      "text/plain": [
       "['A', 'B', 2.4]"
      ]
     },
     "execution_count": 56,
     "metadata": {},
     "output_type": "execute_result"
    }
   ],
   "source": [
    "l3[:len(l3)-2]"
   ]
  },
  {
   "cell_type": "markdown",
   "id": "37356569",
   "metadata": {},
   "source": [
    "### Quize\n",
    "\n",
    "1. List slicing, start at position 2, end at position 4.\n",
    "\n",
    "\n",
    "2. One way to reverse a list.\n",
    "\n",
    "\n",
    "3. Write an output of l3[:2:-1]"
   ]
  },
  {
   "cell_type": "code",
   "execution_count": 57,
   "id": "7d7bdaae",
   "metadata": {},
   "outputs": [
    {
     "data": {
      "text/plain": [
       "['hii', 'hello', 10]"
      ]
     },
     "execution_count": 57,
     "metadata": {},
     "output_type": "execute_result"
    }
   ],
   "source": [
    "# 1. List slicing, start at position 2, end at position 4.\n",
    "list = [2, 2.4, 'hii', 'hello', 10, 'abc']\n",
    "list[2:-1]"
   ]
  },
  {
   "cell_type": "code",
   "execution_count": 58,
   "id": "bda99f0c",
   "metadata": {},
   "outputs": [
    {
     "data": {
      "text/plain": [
       "['abc', 10, 'hello', 'hii', 2.4, 2]"
      ]
     },
     "execution_count": 58,
     "metadata": {},
     "output_type": "execute_result"
    }
   ],
   "source": [
    "# 2.One way to reverse a list.\n",
    "\n",
    "list[::-1]"
   ]
  },
  {
   "cell_type": "code",
   "execution_count": 59,
   "id": "cf9bc0e5",
   "metadata": {},
   "outputs": [
    {
     "data": {
      "text/plain": [
       "[True]"
      ]
     },
     "execution_count": 59,
     "metadata": {},
     "output_type": "execute_result"
    }
   ],
   "source": [
    "# Write an output of l3[:2:-1].\n",
    "l3 = [1, 'a', 2.4, True]\n",
    "l3[:2:-1]"
   ]
  },
  {
   "cell_type": "code",
   "execution_count": 60,
   "id": "e53d99a0",
   "metadata": {},
   "outputs": [
    {
     "data": {
      "text/plain": [
       "['a', 'k', 'r', 's', 'x']"
      ]
     },
     "execution_count": 60,
     "metadata": {},
     "output_type": "execute_result"
    }
   ],
   "source": [
    "# All elements are string\n",
    "l4 = ['x', 'k', 's', 'r', 'a']\n",
    "l4.sort(key = str.lower)\n",
    "l4"
   ]
  },
  {
   "cell_type": "code",
   "execution_count": 61,
   "id": "a524b511",
   "metadata": {},
   "outputs": [
    {
     "data": {
      "text/plain": [
       "[1, 2, 2, 3, 4.5, 5]"
      ]
     },
     "execution_count": 61,
     "metadata": {},
     "output_type": "execute_result"
    }
   ],
   "source": [
    "# All elements are number\n",
    "l5 = [5, 2, 1, 2, 3, 4.5]\n",
    "l5.sort()  # Default ascending order\n",
    "l5"
   ]
  },
  {
   "cell_type": "code",
   "execution_count": 62,
   "id": "dcf9dbb2",
   "metadata": {},
   "outputs": [
    {
     "data": {
      "text/plain": [
       "[5, 2, 1, 2, 3, 4.5]"
      ]
     },
     "execution_count": 62,
     "metadata": {},
     "output_type": "execute_result"
    }
   ],
   "source": [
    "# Reverse keyword is used to sort in descending order.\n",
    "l5 = [5, 2, 1, 2, 3, 4.5]\n",
    "\n",
    "sorted(l5, reverse = True)\n",
    "l5\n",
    "# Sort can change the original list."
   ]
  },
  {
   "cell_type": "markdown",
   "id": "623d3c4f",
   "metadata": {},
   "source": [
    "### Quiz\n",
    "\n",
    "1. Difference bettween sort and sorted method.\n",
    "\n",
    "\n",
    "2. Find out min and max value from the list."
   ]
  },
  {
   "cell_type": "markdown",
   "id": "84bee5f6",
   "metadata": {},
   "source": [
    "####  1. Difference bettween sort and sorted method.\n",
    "\n",
    "The sort() method doesn't return any value. Rather, it changes the original list.\n",
    "\n",
    "If you want a function to return the sorted list rather than change the original list, use sorted().\n",
    "\n",
    "                                    or\n",
    "\n",
    "The sorted() method return the sorted list rather than change the original list."
   ]
  },
  {
   "cell_type": "code",
   "execution_count": 64,
   "id": "d5d7aa0b",
   "metadata": {},
   "outputs": [
    {
     "data": {
      "text/plain": [
       "80"
      ]
     },
     "execution_count": 64,
     "metadata": {},
     "output_type": "execute_result"
    }
   ],
   "source": [
    "# 2. Find out min and max value from the list.\n",
    "\n",
    "list = [2, 2.4, 30,10,80,50]\n",
    "min(list)\n",
    "max(list)"
   ]
  },
  {
   "cell_type": "code",
   "execution_count": 68,
   "id": "37f566f3",
   "metadata": {},
   "outputs": [
    {
     "data": {
      "text/plain": [
       "[5, 2, 1, 2, 3, 4.5]"
      ]
     },
     "execution_count": 68,
     "metadata": {},
     "output_type": "execute_result"
    }
   ],
   "source": [
    "# List copy\n",
    "l6 = l5[:]\n",
    "l6"
   ]
  },
  {
   "cell_type": "code",
   "execution_count": 69,
   "id": "afeaab42",
   "metadata": {},
   "outputs": [
    {
     "data": {
      "text/plain": [
       "[5, 2, 1, 2, 3]"
      ]
     },
     "execution_count": 69,
     "metadata": {},
     "output_type": "execute_result"
    }
   ],
   "source": [
    "# If you need to delete element based on the index (Like the fourth element)\n",
    "l6.pop()\n",
    "l6"
   ]
  },
  {
   "cell_type": "code",
   "execution_count": 70,
   "id": "bf3f63d9",
   "metadata": {},
   "outputs": [
    {
     "data": {
      "text/plain": [
       "[5, 2, 2, 3]"
      ]
     },
     "execution_count": 70,
     "metadata": {},
     "output_type": "execute_result"
    }
   ],
   "source": [
    "l6.pop(2)\n",
    "l6"
   ]
  },
  {
   "cell_type": "code",
   "execution_count": 71,
   "id": "01d174ba",
   "metadata": {},
   "outputs": [
    {
     "data": {
      "text/plain": [
       "[5, 2, 2]"
      ]
     },
     "execution_count": 71,
     "metadata": {},
     "output_type": "execute_result"
    }
   ],
   "source": [
    "l6.pop(-1)\n",
    "l6"
   ]
  },
  {
   "cell_type": "markdown",
   "id": "f4e4b746",
   "metadata": {},
   "source": [
    "### Tuple"
   ]
  },
  {
   "cell_type": "code",
   "execution_count": 72,
   "id": "1b094d27",
   "metadata": {},
   "outputs": [
    {
     "data": {
      "text/plain": [
       "('a', 12, 2.5, True)"
      ]
     },
     "execution_count": 72,
     "metadata": {},
     "output_type": "execute_result"
    }
   ],
   "source": [
    "# Create a tuple\n",
    "t1 = ('a', 12, 2.5, True)  # Heterogeneous container\n",
    "t1"
   ]
  },
  {
   "cell_type": "code",
   "execution_count": 73,
   "id": "fbf59078",
   "metadata": {},
   "outputs": [
    {
     "data": {
      "text/plain": [
       "tuple"
      ]
     },
     "execution_count": 73,
     "metadata": {},
     "output_type": "execute_result"
    }
   ],
   "source": [
    "type(t1)"
   ]
  },
  {
   "cell_type": "code",
   "execution_count": 74,
   "id": "6f40365a",
   "metadata": {},
   "outputs": [
    {
     "data": {
      "text/plain": [
       "2.5"
      ]
     },
     "execution_count": 74,
     "metadata": {},
     "output_type": "execute_result"
    }
   ],
   "source": [
    "t1[2]"
   ]
  },
  {
   "cell_type": "code",
   "execution_count": 75,
   "id": "4e2f7cee",
   "metadata": {},
   "outputs": [
    {
     "data": {
      "text/plain": [
       "(12, 2.5, True)"
      ]
     },
     "execution_count": 75,
     "metadata": {},
     "output_type": "execute_result"
    }
   ],
   "source": [
    "t1[1:]"
   ]
  },
  {
   "cell_type": "code",
   "execution_count": 76,
   "id": "524a6b18",
   "metadata": {},
   "outputs": [
    {
     "ename": "TypeError",
     "evalue": "'tuple' object does not support item assignment",
     "output_type": "error",
     "traceback": [
      "\u001b[1;31m---------------------------------------------------------------------------\u001b[0m",
      "\u001b[1;31mTypeError\u001b[0m                                 Traceback (most recent call last)",
      "\u001b[1;32m<ipython-input-76-d90764947794>\u001b[0m in \u001b[0;36m<module>\u001b[1;34m\u001b[0m\n\u001b[1;32m----> 1\u001b[1;33m \u001b[0mt1\u001b[0m\u001b[1;33m[\u001b[0m\u001b[1;36m2\u001b[0m\u001b[1;33m]\u001b[0m \u001b[1;33m=\u001b[0m \u001b[1;36m4\u001b[0m\u001b[1;33m\u001b[0m\u001b[1;33m\u001b[0m\u001b[0m\n\u001b[0m",
      "\u001b[1;31mTypeError\u001b[0m: 'tuple' object does not support item assignment"
     ]
    }
   ],
   "source": [
    "t1[2] = 4"
   ]
  },
  {
   "cell_type": "markdown",
   "id": "8a541bed",
   "metadata": {},
   "source": [
    "<font color=blue> Any comma-separated sequence of values defines a tuple, which can be used to assigning values to multiple variables at a time."
   ]
  },
  {
   "cell_type": "code",
   "execution_count": 78,
   "id": "2e163006",
   "metadata": {},
   "outputs": [],
   "source": [
    "t2 = 1,2,5,'k'"
   ]
  },
  {
   "cell_type": "code",
   "execution_count": 79,
   "id": "cbcaf4e3",
   "metadata": {},
   "outputs": [
    {
     "data": {
      "text/plain": [
       "tuple"
      ]
     },
     "execution_count": 79,
     "metadata": {},
     "output_type": "execute_result"
    }
   ],
   "source": [
    "type(t2)"
   ]
  },
  {
   "cell_type": "code",
   "execution_count": 80,
   "id": "5bb759ee",
   "metadata": {},
   "outputs": [
    {
     "data": {
      "text/plain": [
       "3"
      ]
     },
     "execution_count": 80,
     "metadata": {},
     "output_type": "execute_result"
    }
   ],
   "source": [
    "# A tuple is ordered, like a list, so you can get its values referencing an index values\n",
    "t2.index('k')"
   ]
  },
  {
   "cell_type": "code",
   "execution_count": 81,
   "id": "4a3f545a",
   "metadata": {},
   "outputs": [
    {
     "data": {
      "text/plain": [
       "('a', 12, 2.5, True, 1, 2, 5, 'k')"
      ]
     },
     "execution_count": 81,
     "metadata": {},
     "output_type": "execute_result"
    }
   ],
   "source": [
    "# Create a new tuple\n",
    "t3 = t1 + t2\n",
    "t3"
   ]
  },
  {
   "cell_type": "code",
   "execution_count": 82,
   "id": "3503031b",
   "metadata": {},
   "outputs": [
    {
     "data": {
      "text/plain": [
       "('a', 12, 2.5, True, 1, 2, 5, 'k', 'a', 12, 2.5, True, 1, 2, 5, 'k')"
      ]
     },
     "execution_count": 82,
     "metadata": {},
     "output_type": "execute_result"
    }
   ],
   "source": [
    "t4 = t3 * 2  # Repeat n number of times\n",
    "t4"
   ]
  },
  {
   "cell_type": "code",
   "execution_count": 83,
   "id": "06b06372",
   "metadata": {},
   "outputs": [
    {
     "name": "stdout",
     "output_type": "stream",
     "text": [
      "True\n"
     ]
    }
   ],
   "source": [
    "# 'in' Operator\n",
    "print('k' in t4)  # You can check if an item is contained into a tuple with the in operator"
   ]
  },
  {
   "cell_type": "markdown",
   "id": "2ac829ff",
   "metadata": {},
   "source": [
    "### Quiz\n",
    "\n",
    "1. Is list allow duplicate elements ?          --->  yes\n",
    "\n",
    "\n",
    "2. Is tuple allow duplicate elements ?         ---> yes"
   ]
  },
  {
   "cell_type": "code",
   "execution_count": 84,
   "id": "e174b92e",
   "metadata": {},
   "outputs": [
    {
     "data": {
      "text/plain": [
       "[1, 2, 1]"
      ]
     },
     "execution_count": 84,
     "metadata": {},
     "output_type": "execute_result"
    }
   ],
   "source": [
    "# 1. Is list allow duplicate elements ?\n",
    "list1 = [1 , 2, 1]\n",
    "list1"
   ]
  },
  {
   "cell_type": "code",
   "execution_count": 85,
   "id": "2f51a9c5",
   "metadata": {},
   "outputs": [
    {
     "data": {
      "text/plain": [
       "(1, 2, 1)"
      ]
     },
     "execution_count": 85,
     "metadata": {},
     "output_type": "execute_result"
    }
   ],
   "source": [
    "# 2. Is tuple allow duplicate elements ?\n",
    "\n",
    "tuple = (1, 2, 1)\n",
    "tuple"
   ]
  },
  {
   "cell_type": "markdown",
   "id": "901ef2dc",
   "metadata": {},
   "source": [
    "### Sets"
   ]
  },
  {
   "cell_type": "code",
   "execution_count": 86,
   "id": "00330523",
   "metadata": {},
   "outputs": [
    {
     "data": {
      "text/plain": [
       "{1, 2, 'a'}"
      ]
     },
     "execution_count": 86,
     "metadata": {},
     "output_type": "execute_result"
    }
   ],
   "source": [
    "# Sets are created using curly brackets.\n",
    "s = {1, 'a', 2}\n",
    "s"
   ]
  },
  {
   "cell_type": "code",
   "execution_count": 87,
   "id": "74d13504",
   "metadata": {},
   "outputs": [
    {
     "data": {
      "text/plain": [
       "set"
      ]
     },
     "execution_count": 87,
     "metadata": {},
     "output_type": "execute_result"
    }
   ],
   "source": [
    "type(s)"
   ]
  },
  {
   "cell_type": "code",
   "execution_count": 88,
   "id": "9a35ca58",
   "metadata": {},
   "outputs": [
    {
     "data": {
      "text/plain": [
       "{3, 'l1', 'l3'}"
      ]
     },
     "execution_count": 88,
     "metadata": {},
     "output_type": "execute_result"
    }
   ],
   "source": [
    "s1 = set(['l1', 3, 'l3', 3])  # Creating a set from list (note that duplicates are removed).\n",
    "\n",
    "s1  # Duplicates not allowed"
   ]
  },
  {
   "cell_type": "code",
   "execution_count": 89,
   "id": "61e9e544",
   "metadata": {},
   "outputs": [
    {
     "data": {
      "text/plain": [
       "set"
      ]
     },
     "execution_count": 89,
     "metadata": {},
     "output_type": "execute_result"
    }
   ],
   "source": [
    "type(s1)"
   ]
  },
  {
   "cell_type": "code",
   "execution_count": 90,
   "id": "ea553163",
   "metadata": {},
   "outputs": [
    {
     "data": {
      "text/plain": [
       "set()"
      ]
     },
     "execution_count": 90,
     "metadata": {},
     "output_type": "execute_result"
    }
   ],
   "source": [
    "# How to create empty set\n",
    "s3 = set([])\n",
    "s3"
   ]
  },
  {
   "cell_type": "code",
   "execution_count": 91,
   "id": "9ea0fe8e",
   "metadata": {},
   "outputs": [
    {
     "data": {
      "text/plain": [
       "{}"
      ]
     },
     "execution_count": 91,
     "metadata": {},
     "output_type": "execute_result"
    }
   ],
   "source": [
    "s31 = {}  # Is it empty set ?\n",
    "s31"
   ]
  },
  {
   "cell_type": "code",
   "execution_count": 92,
   "id": "26c522c1",
   "metadata": {},
   "outputs": [
    {
     "data": {
      "text/plain": [
       "dict"
      ]
     },
     "execution_count": 92,
     "metadata": {},
     "output_type": "execute_result"
    }
   ],
   "source": [
    "type(s31)"
   ]
  },
  {
   "cell_type": "code",
   "execution_count": 93,
   "id": "fe4b3ef4",
   "metadata": {},
   "outputs": [
    {
     "data": {
      "text/plain": [
       "set"
      ]
     },
     "execution_count": 93,
     "metadata": {},
     "output_type": "execute_result"
    }
   ],
   "source": [
    "type(s3)"
   ]
  },
  {
   "cell_type": "markdown",
   "id": "e8fac5a8",
   "metadata": {},
   "source": [
    "#### The standard mathematical operations for sets are all built into python\n"
   ]
  },
  {
   "cell_type": "code",
   "execution_count": 94,
   "id": "919cc086",
   "metadata": {},
   "outputs": [],
   "source": [
    "ss1 = {'cat', 'dog', 'cow'}\n",
    "ss2 = {0, 2, 4, 6, 8}\n",
    "ss3 = {1, 2, 3, 4, 5}\n",
    "ss4 = {'cat2', 'dog1', 'dog'}"
   ]
  },
  {
   "cell_type": "code",
   "execution_count": 95,
   "id": "c366619a",
   "metadata": {},
   "outputs": [
    {
     "data": {
      "text/plain": [
       "{0, 2, 4, 6, 8, 'cat', 'cow', 'dog'}"
      ]
     },
     "execution_count": 95,
     "metadata": {},
     "output_type": "execute_result"
    }
   ],
   "source": [
    "# Union of two sets\n",
    "ss1 | ss2"
   ]
  },
  {
   "cell_type": "code",
   "execution_count": 96,
   "id": "05102d67",
   "metadata": {},
   "outputs": [
    {
     "data": {
      "text/plain": [
       "{0, 1, 2, 3, 4, 5, 6, 8}"
      ]
     },
     "execution_count": 96,
     "metadata": {},
     "output_type": "execute_result"
    }
   ],
   "source": [
    "ss2 | ss3"
   ]
  },
  {
   "cell_type": "code",
   "execution_count": 97,
   "id": "a1b4c7af",
   "metadata": {},
   "outputs": [
    {
     "data": {
      "text/plain": [
       "{'cat', 'cat2', 'cow', 'dog', 'dog1'}"
      ]
     },
     "execution_count": 97,
     "metadata": {},
     "output_type": "execute_result"
    }
   ],
   "source": [
    "ss1 | ss4"
   ]
  },
  {
   "cell_type": "code",
   "execution_count": 98,
   "id": "c82efd93",
   "metadata": {},
   "outputs": [
    {
     "data": {
      "text/plain": [
       "{'dog'}"
      ]
     },
     "execution_count": 98,
     "metadata": {},
     "output_type": "execute_result"
    }
   ],
   "source": [
    "ss1 & ss4  # Intersection"
   ]
  },
  {
   "cell_type": "code",
   "execution_count": 99,
   "id": "87637123",
   "metadata": {},
   "outputs": [
    {
     "data": {
      "text/plain": [
       "True"
      ]
     },
     "execution_count": 99,
     "metadata": {},
     "output_type": "execute_result"
    }
   ],
   "source": [
    "# 'in' Operator\n",
    "\"dog\" in ss1"
   ]
  },
  {
   "cell_type": "code",
   "execution_count": 100,
   "id": "5abbe77b",
   "metadata": {},
   "outputs": [
    {
     "data": {
      "text/plain": [
       "set()"
      ]
     },
     "execution_count": 100,
     "metadata": {},
     "output_type": "execute_result"
    }
   ],
   "source": [
    "ss1 & ss2"
   ]
  },
  {
   "cell_type": "code",
   "execution_count": 101,
   "id": "3f17c5fe",
   "metadata": {},
   "outputs": [
    {
     "data": {
      "text/plain": [
       "{'cat', 'cow'}"
      ]
     },
     "execution_count": 101,
     "metadata": {},
     "output_type": "execute_result"
    }
   ],
   "source": [
    "# Set difference (Can also use the difference operator).\n",
    "\n",
    "ss1 - ss4"
   ]
  },
  {
   "cell_type": "code",
   "execution_count": 102,
   "id": "4a76d7f4",
   "metadata": {},
   "outputs": [
    {
     "data": {
      "text/plain": [
       "{'cat2', 'dog1'}"
      ]
     },
     "execution_count": 102,
     "metadata": {},
     "output_type": "execute_result"
    }
   ],
   "source": [
    "# What is the output of the following function\n",
    "\n",
    "ss4 - ss1"
   ]
  },
  {
   "cell_type": "code",
   "execution_count": 103,
   "id": "17a8d416",
   "metadata": {},
   "outputs": [
    {
     "data": {
      "text/plain": [
       "{'cat', 'cow', 'dog'}"
      ]
     },
     "execution_count": 103,
     "metadata": {},
     "output_type": "execute_result"
    }
   ],
   "source": [
    "ss1 - ss2"
   ]
  },
  {
   "cell_type": "code",
   "execution_count": 104,
   "id": "a9fae848",
   "metadata": {},
   "outputs": [
    {
     "data": {
      "text/plain": [
       "{0, 6, 8}"
      ]
     },
     "execution_count": 104,
     "metadata": {},
     "output_type": "execute_result"
    }
   ],
   "source": [
    "ss2 - ss3"
   ]
  },
  {
   "cell_type": "code",
   "execution_count": 105,
   "id": "8df7cd32",
   "metadata": {},
   "outputs": [
    {
     "data": {
      "text/plain": [
       "{0, 1, 3, 5, 6, 8}"
      ]
     },
     "execution_count": 105,
     "metadata": {},
     "output_type": "execute_result"
    }
   ],
   "source": [
    "ss2 ^ ss3   # Symmetric difference (can also use the symmetric difference operator)"
   ]
  },
  {
   "cell_type": "code",
   "execution_count": 110,
   "id": "f863fb48",
   "metadata": {},
   "outputs": [
    {
     "data": {
      "text/plain": [
       "True"
      ]
     },
     "execution_count": 110,
     "metadata": {},
     "output_type": "execute_result"
    }
   ],
   "source": [
    "ss5 = {1, 2, 3, 4}\n",
    "ss6 = {1, 2, 3}\n",
    "ss6 <= ss5"
   ]
  },
  {
   "cell_type": "code",
   "execution_count": 107,
   "id": "1fcf7f7e",
   "metadata": {},
   "outputs": [
    {
     "data": {
      "text/plain": [
       "False"
      ]
     },
     "execution_count": 107,
     "metadata": {},
     "output_type": "execute_result"
    }
   ],
   "source": [
    "ss6 >= ss5  # Superset"
   ]
  },
  {
   "cell_type": "code",
   "execution_count": 108,
   "id": "a2f32792",
   "metadata": {},
   "outputs": [
    {
     "data": {
      "text/plain": [
       "3"
      ]
     },
     "execution_count": 108,
     "metadata": {},
     "output_type": "execute_result"
    }
   ],
   "source": [
    "len(ss6)"
   ]
  },
  {
   "cell_type": "code",
   "execution_count": 113,
   "id": "b3647a01",
   "metadata": {},
   "outputs": [
    {
     "data": {
      "text/plain": [
       "list"
      ]
     },
     "execution_count": 113,
     "metadata": {},
     "output_type": "execute_result"
    }
   ],
   "source": [
    "type(l6)"
   ]
  },
  {
   "cell_type": "markdown",
   "id": "42a1b86a",
   "metadata": {},
   "source": [
    "### Dictionaries"
   ]
  },
  {
   "cell_type": "markdown",
   "id": "81f163a9",
   "metadata": {},
   "source": [
    "#### Dictionaries are containers where items are accessed by a key.\n"
   ]
  },
  {
   "cell_type": "code",
   "execution_count": 115,
   "id": "e8a97ea3",
   "metadata": {},
   "outputs": [
    {
     "data": {
      "text/plain": [
       "{1: 'Sunday', 2: 'Monday', 3: 'tuesday'}"
      ]
     },
     "execution_count": 115,
     "metadata": {},
     "output_type": "execute_result"
    }
   ],
   "source": [
    "# Create Dictionary\n",
    "\n",
    "d1 = {1 : 'Sunday', 2 : 'Monday', 3 : 'tuesday'}   # Note the colon in the key:value pairs.\n",
    "d1"
   ]
  },
  {
   "cell_type": "code",
   "execution_count": 116,
   "id": "f8a03ce1",
   "metadata": {},
   "outputs": [
    {
     "data": {
      "text/plain": [
       "{}"
      ]
     },
     "execution_count": 116,
     "metadata": {},
     "output_type": "execute_result"
    }
   ],
   "source": [
    "d11 = { }   # Creating an empty dict.\n",
    "d11"
   ]
  },
  {
   "cell_type": "code",
   "execution_count": 117,
   "id": "c96f0194",
   "metadata": {},
   "outputs": [
    {
     "data": {
      "text/plain": [
       "{}"
      ]
     },
     "execution_count": 117,
     "metadata": {},
     "output_type": "execute_result"
    }
   ],
   "source": [
    "d12 = dict()  # Another way to create an empty dictionary \n",
    "d12"
   ]
  },
  {
   "cell_type": "code",
   "execution_count": 118,
   "id": "f8658ee6",
   "metadata": {},
   "outputs": [
    {
     "data": {
      "text/plain": [
       "dict"
      ]
     },
     "execution_count": 118,
     "metadata": {},
     "output_type": "execute_result"
    }
   ],
   "source": [
    "type(d1)"
   ]
  },
  {
   "cell_type": "code",
   "execution_count": 119,
   "id": "91b9049a",
   "metadata": {},
   "outputs": [
    {
     "data": {
      "text/plain": [
       "'Sunday'"
      ]
     },
     "execution_count": 119,
     "metadata": {},
     "output_type": "execute_result"
    }
   ],
   "source": [
    "d1[1]  # dictionary values are accessed using the keys"
   ]
  },
  {
   "cell_type": "code",
   "execution_count": 120,
   "id": "bab797bf",
   "metadata": {},
   "outputs": [
    {
     "data": {
      "text/plain": [
       "{1: 'Sunday', 2: 'Monday', 3: 'Tuesday'}"
      ]
     },
     "execution_count": 120,
     "metadata": {},
     "output_type": "execute_result"
    }
   ],
   "source": [
    "# Dictionary values can be changed/update using the \"=\" assignment operator.\n",
    "\n",
    "d1[3] = 'Tuesday'\n",
    "d1"
   ]
  },
  {
   "cell_type": "code",
   "execution_count": 121,
   "id": "dcfefcf3",
   "metadata": {},
   "outputs": [
    {
     "data": {
      "text/plain": [
       "{1: 'Sunday', 2: 'Monday', 3: 'Tuesday', 4: 'Saturday'}"
      ]
     },
     "execution_count": 121,
     "metadata": {},
     "output_type": "execute_result"
    }
   ],
   "source": [
    "# New : value pairs (Adding new items)can be  assigned using the \"=\" assignment operator.\n",
    "d1[4] = 'Saturday'\n",
    "d1"
   ]
  },
  {
   "cell_type": "code",
   "execution_count": 122,
   "id": "1facd1cc",
   "metadata": {},
   "outputs": [],
   "source": [
    "d1.get(7)  # Get return value for key. if key is worng or does not exist get does not return anythings  or default value"
   ]
  },
  {
   "cell_type": "code",
   "execution_count": 123,
   "id": "5c59314f",
   "metadata": {},
   "outputs": [
    {
     "data": {
      "text/plain": [
       "{65: 'A', 66: 'B', 67: 'C', 68: 'D', 69: 'E'}"
      ]
     },
     "execution_count": 123,
     "metadata": {},
     "output_type": "execute_result"
    }
   ],
   "source": [
    "# Remove a item\n",
    "nd = {65 : 'A', 66 : 'B', 67 : 'C', 68 : 'D', 69 : 'E'}\n",
    "nd"
   ]
  },
  {
   "cell_type": "code",
   "execution_count": 124,
   "id": "224cd92d",
   "metadata": {},
   "outputs": [
    {
     "data": {
      "text/plain": [
       "{65: 'A', 66: 'B', 68: 'D', 69: 'E'}"
      ]
     },
     "execution_count": 124,
     "metadata": {},
     "output_type": "execute_result"
    }
   ],
   "source": [
    "# Pop() and popitem() function to remove item from dict\n",
    "\n",
    "nd.pop(67)\n",
    "nd"
   ]
  },
  {
   "cell_type": "code",
   "execution_count": 125,
   "id": "2fdcaae1",
   "metadata": {},
   "outputs": [
    {
     "data": {
      "text/plain": [
       "(69, 'E')"
      ]
     },
     "execution_count": 125,
     "metadata": {},
     "output_type": "execute_result"
    }
   ],
   "source": [
    "# Remove an dictionary item, return (key,value)\n",
    "\n",
    "nd.popitem()"
   ]
  },
  {
   "cell_type": "code",
   "execution_count": 126,
   "id": "63fc98da",
   "metadata": {},
   "outputs": [
    {
     "data": {
      "text/plain": [
       "{65: 'A', 66: 'B'}"
      ]
     },
     "execution_count": 126,
     "metadata": {},
     "output_type": "execute_result"
    }
   ],
   "source": [
    "nd.popitem()\n",
    "nd"
   ]
  },
  {
   "cell_type": "code",
   "execution_count": 127,
   "id": "b816ee01",
   "metadata": {},
   "outputs": [
    {
     "data": {
      "text/plain": [
       "{}"
      ]
     },
     "execution_count": 127,
     "metadata": {},
     "output_type": "execute_result"
    }
   ],
   "source": [
    "# Remove all items\n",
    "\n",
    "nd.clear()\n",
    "nd"
   ]
  },
  {
   "cell_type": "code",
   "execution_count": null,
   "id": "c6b39167",
   "metadata": {},
   "outputs": [],
   "source": [
    "# Delete dict\n",
    "\n",
    "del nd\n",
    "nd"
   ]
  },
  {
   "cell_type": "markdown",
   "id": "11c030c0",
   "metadata": {},
   "source": [
    "### Quiz\n",
    "\n",
    "1.  Python dictionary is an ______ (ordered/unordered), and ______ collection of items.\n",
    "\n",
    "2.  Each item of dictionary has a ______ pair.\n",
    "\n",
    "3.  Write different way to create dict.\n",
    "\n",
    "4.  Access values, a dictionary uses ______.\n",
    "\n",
    "5.  If we use the square brackets [], ______ is raised in case a key is not found in the dictionary.\n",
    "\n",
    "6.  The get() method returns ______ if the key is not found."
   ]
  },
  {
   "cell_type": "markdown",
   "id": "c6f3c42b",
   "metadata": {},
   "source": [
    "1.  Python dictionary is an ______ (ordered/unordered), and ______ collection of items.\n",
    "\n",
    "    Unordered , immutable"
   ]
  },
  {
   "cell_type": "markdown",
   "id": "cdc906eb",
   "metadata": {},
   "source": [
    "2.  Each item of dictionary has a ______ pair.\n",
    "    \n",
    "    Key : value Pairs"
   ]
  },
  {
   "cell_type": "markdown",
   "id": "a079df2e",
   "metadata": {},
   "source": [
    "3.  Write different way to create dict.\n",
    "\n",
    "    1 )   d11 = { }\n",
    "    \n",
    "    \n",
    "    2 )  d12 = dict()\n",
    "    \n",
    "    3 )  d1 = {1 : 'Sunday', 2 : 'Monday', 3 : 'Tuesday' }"
   ]
  },
  {
   "cell_type": "markdown",
   "id": "16c558da",
   "metadata": {},
   "source": [
    "4.  Access values, a dictionary uses ______.\n",
    "\n",
    "    Key"
   ]
  },
  {
   "cell_type": "markdown",
   "id": "c51564e2",
   "metadata": {},
   "source": [
    "5.  If we use the square brackets [], ______ is raised in case a key is not found in the dictionary.\n",
    "\n",
    "    KeyError"
   ]
  },
  {
   "cell_type": "markdown",
   "id": "9ab0cfdd",
   "metadata": {},
   "source": [
    "6.  The get() method returns ______ if the key is not found.\n",
    "\n",
    "    None"
   ]
  },
  {
   "cell_type": "markdown",
   "id": "4971c5da",
   "metadata": {},
   "source": [
    "### Dictionary Methods\n",
    "\n",
    "\n",
    "\n",
    "<font color=blue> fromkey(seq[,v]) <font color=black> - Returns a new dictionary with keys seq and values equal to v (defaults to None)."
   ]
  },
  {
   "cell_type": "code",
   "execution_count": 130,
   "id": "b4e36bcf",
   "metadata": {},
   "outputs": [
    {
     "data": {
      "text/plain": [
       "{12008101: 'Rajkot', 12008102: 'Rajkot', 12008103: 'Rajkot'}"
      ]
     },
     "execution_count": 130,
     "metadata": {},
     "output_type": "execute_result"
    }
   ],
   "source": [
    "# Dictionary Methods\n",
    "\n",
    "stu_city = {}.fromkeys([12008101, 12008102, 12008103] , 'Rajkot')\n",
    "stu_city"
   ]
  },
  {
   "cell_type": "code",
   "execution_count": 131,
   "id": "e099bb8a",
   "metadata": {},
   "outputs": [
    {
     "name": "stdout",
     "output_type": "stream",
     "text": [
      "dict_items([(12008101, 'Rajkot'), (12008102, 'Rajkot'), (12008103, 'Rajkot')])\n"
     ]
    }
   ],
   "source": [
    "print(stu_city.items())   # Items() return a new object of the dictionary,s items in (key , value)= format."
   ]
  },
  {
   "cell_type": "code",
   "execution_count": 132,
   "id": "b47a5a01",
   "metadata": {},
   "outputs": [
    {
     "data": {
      "text/plain": [
       "dict_items"
      ]
     },
     "execution_count": 132,
     "metadata": {},
     "output_type": "execute_result"
    }
   ],
   "source": [
    "type(stu_city.items())"
   ]
  },
  {
   "cell_type": "code",
   "execution_count": 133,
   "id": "5905c437",
   "metadata": {},
   "outputs": [
    {
     "data": {
      "text/plain": [
       "True"
      ]
     },
     "execution_count": 133,
     "metadata": {},
     "output_type": "execute_result"
    }
   ],
   "source": [
    "12008102 in stu_city"
   ]
  },
  {
   "cell_type": "code",
   "execution_count": 134,
   "id": "160dc616",
   "metadata": {},
   "outputs": [
    {
     "data": {
      "text/plain": [
       "dict_keys([12008101, 12008102, 12008103])"
      ]
     },
     "execution_count": 134,
     "metadata": {},
     "output_type": "execute_result"
    }
   ],
   "source": [
    "stu_city.keys()   # Return a new object of the dictionary's keys."
   ]
  },
  {
   "cell_type": "markdown",
   "id": "508a62ea",
   "metadata": {},
   "source": [
    "### Python Dictionary Comprehension\n"
   ]
  },
  {
   "cell_type": "code",
   "execution_count": 135,
   "id": "278a796e",
   "metadata": {},
   "outputs": [
    {
     "name": "stdout",
     "output_type": "stream",
     "text": [
      "{0: 0, 1: 1, 2: 4, 3: 9, 4: 16, 5: 25}\n"
     ]
    }
   ],
   "source": [
    "# Example to make a dictionary with each item being a pair of a number and its square.\n",
    "# Dictionary Comprehension\n",
    "\n",
    "squares = {x : x*x for x in range(6)}\n",
    "print(squares)"
   ]
  },
  {
   "cell_type": "markdown",
   "id": "1f30be9c",
   "metadata": {},
   "source": [
    "<font color=red> Write code is equivalent to using for loop."
   ]
  },
  {
   "cell_type": "code",
   "execution_count": 136,
   "id": "623740e8",
   "metadata": {},
   "outputs": [
    {
     "name": "stdout",
     "output_type": "stream",
     "text": [
      "{0: 0, 1: 1, 2: 4, 3: 9, 4: 16, 5: 25}\n"
     ]
    }
   ],
   "source": [
    "squares = { }\n",
    "for x in range(6) :\n",
    "    squares[x] = x*x\n",
    "    \n",
    "print(squares)"
   ]
  },
  {
   "cell_type": "code",
   "execution_count": 137,
   "id": "2d7008a9",
   "metadata": {},
   "outputs": [
    {
     "name": "stdout",
     "output_type": "stream",
     "text": [
      "{0: 0}\n",
      "{0: 0, 1: 1}\n",
      "{0: 0, 1: 1, 2: 4}\n",
      "{0: 0, 1: 1, 2: 4, 3: 9}\n",
      "{0: 0, 1: 1, 2: 4, 3: 9, 4: 16}\n",
      "{0: 0, 1: 1, 2: 4, 3: 9, 4: 16, 5: 25}\n"
     ]
    }
   ],
   "source": [
    "squares = { }\n",
    "for x in range(6) :\n",
    "    squares[x] = x*x\n",
    "    print(squares)"
   ]
  },
  {
   "cell_type": "code",
   "execution_count": 138,
   "id": "196789d9",
   "metadata": {},
   "outputs": [
    {
     "data": {
      "text/plain": [
       "{0: 0, 2: 2, 4: 4, 6: 6, 8: 8}"
      ]
     },
     "execution_count": 138,
     "metadata": {},
     "output_type": "execute_result"
    }
   ],
   "source": [
    "even_squares = {x : x for x in range(10) if x % 2 != 1}\n",
    "even_squares"
   ]
  },
  {
   "cell_type": "code",
   "execution_count": 139,
   "id": "e2855088",
   "metadata": {},
   "outputs": [
    {
     "name": "stdout",
     "output_type": "stream",
     "text": [
      "range(0, 5)\n"
     ]
    }
   ],
   "source": [
    "k = range(5)\n",
    "print(k)"
   ]
  },
  {
   "cell_type": "markdown",
   "id": "6525e711",
   "metadata": {},
   "source": [
    "<font color = red> 1. Write code is equivalent to above using for loop and condition.\n",
    "    \n",
    "    \n",
    "<font color = red> 2. Write comprehension for...... "
   ]
  },
  {
   "cell_type": "code",
   "execution_count": 141,
   "id": "6576f116",
   "metadata": {},
   "outputs": [
    {
     "name": "stdout",
     "output_type": "stream",
     "text": [
      "{0: 0}\n",
      "{0: 0}\n",
      "{0: 0, 2: 2}\n",
      "{0: 0, 2: 2}\n",
      "{0: 0, 2: 2, 4: 4}\n",
      "{0: 0, 2: 2, 4: 4}\n",
      "{0: 0, 2: 2, 4: 4, 6: 6}\n",
      "{0: 0, 2: 2, 4: 4, 6: 6}\n",
      "{0: 0, 2: 2, 4: 4, 6: 6, 8: 8}\n",
      "{0: 0, 2: 2, 4: 4, 6: 6, 8: 8}\n"
     ]
    }
   ],
   "source": [
    "# 1. Write code is equivalent to above using for loop and condition.\n",
    "\n",
    "Even = { }\n",
    "for x in range(10):\n",
    "    if x % 2 != 1:\n",
    "        Even[x] = x\n",
    "    print(Even)"
   ]
  },
  {
   "cell_type": "code",
   "execution_count": 142,
   "id": "f1d7be7f",
   "metadata": {},
   "outputs": [
    {
     "name": "stdout",
     "output_type": "stream",
     "text": [
      " Enter First Number : 10\n",
      " Enter Second Number : 20\n",
      " The sum of 10 and 20 is : 30.0\n"
     ]
    }
   ],
   "source": [
    "# 2. Write comprehension for...... \n",
    "\n",
    "# Write a program to addition of  two numbers\n",
    "\n",
    "num1 = input(\" Enter First Number : \")\n",
    "num2 = input(\" Enter Second Number : \")\n",
    "\n",
    "# Add two numbers\n",
    "sum = float(num1) + float(num2)\n",
    "\n",
    "# Display the sum\n",
    "print(\" The sum of {0} and {1} is : {2}\".format(num1, num2, sum))"
   ]
  },
  {
   "cell_type": "code",
   "execution_count": 143,
   "id": "6edcb570",
   "metadata": {},
   "outputs": [
    {
     "name": "stdout",
     "output_type": "stream",
     "text": [
      "Enter first number: 20\n",
      "Enter second number: 40\n",
      "The sum is 60.0\n"
     ]
    }
   ],
   "source": [
    "print('The sum is %.1f' %(float(input('Enter first number: ')) + float(input('Enter second number: '))))\n"
   ]
  },
  {
   "cell_type": "code",
   "execution_count": 144,
   "id": "742279cb",
   "metadata": {},
   "outputs": [
    {
     "name": "stdout",
     "output_type": "stream",
     "text": [
      "2000 is a leap year\n"
     ]
    }
   ],
   "source": [
    "# Write a program to find year is leap year or not\n",
    "\n",
    "year = 2000\n",
    "if (year % 4) == 0:\n",
    "   if (year % 100) == 0:\n",
    "       if (year % 400) == 0:\n",
    "           print(\"{0} is a leap year\".format(year))\n",
    "       else:\n",
    "           print(\"{0} is not a leap year\".format(year))\n",
    "   else:\n",
    "       print(\"{0} is a leap year\".format(year))\n",
    "else:\n",
    "   print(\"{0} is not a leap year\".format(year))\n"
   ]
  },
  {
   "cell_type": "code",
   "execution_count": 145,
   "id": "eaab8eb0",
   "metadata": {},
   "outputs": [
    {
     "name": "stdout",
     "output_type": "stream",
     "text": [
      "Enter a Number: 2\n",
      "2 is Even\n"
     ]
    }
   ],
   "source": [
    "# Python program to check if the input number is odd or even.\n",
    "\n",
    "num = int(input(\"Enter a Number: \"))\n",
    "if (num % 2) == 0:\n",
    "   print(\"{0} is Even\".format(num))\n",
    "else:\n",
    "   print(\"{0} is Odd\".format(num))"
   ]
  },
  {
   "cell_type": "code",
   "execution_count": 146,
   "id": "d209fe12",
   "metadata": {},
   "outputs": [
    {
     "data": {
      "text/plain": [
       "dict"
      ]
     },
     "execution_count": 146,
     "metadata": {},
     "output_type": "execute_result"
    }
   ],
   "source": [
    "# How do i access elements / object from dict_items.\n",
    "\n",
    "fruits = {1 : 'PineApple' , 2 : 'Orange' , 3 : 'Mango' , 4 : 'Strawberry' , 5 : 'Blackberry'}\n",
    "type(fruits)"
   ]
  },
  {
   "cell_type": "code",
   "execution_count": 147,
   "id": "cd71884a",
   "metadata": {},
   "outputs": [
    {
     "name": "stdout",
     "output_type": "stream",
     "text": [
      "[1, 2, 3, 4, 5]\n",
      "['PineApple', 'Orange', 'Mango', 'Strawberry', 'Blackberry']\n"
     ]
    }
   ],
   "source": [
    "mykeys = [*fruits]          #list of keys\n",
    "myvals = [*fruits.values()] #list of values\n",
    "\n",
    "print(mykeys)\n",
    "print(myvals)\n"
   ]
  },
  {
   "cell_type": "code",
   "execution_count": 148,
   "id": "4a4da82b",
   "metadata": {},
   "outputs": [
    {
     "data": {
      "text/plain": [
       "dict_keys([1, 2, 3, 4, 5])"
      ]
     },
     "execution_count": 148,
     "metadata": {},
     "output_type": "execute_result"
    }
   ],
   "source": [
    "# Can i convert dict_keys into list.\n",
    "\n",
    "dict.keys(fruits)"
   ]
  },
  {
   "cell_type": "code",
   "execution_count": 149,
   "id": "ead7cd35",
   "metadata": {},
   "outputs": [
    {
     "data": {
      "text/plain": [
       "dict"
      ]
     },
     "execution_count": 149,
     "metadata": {},
     "output_type": "execute_result"
    }
   ],
   "source": [
    "Numbers = {1 : 5, 2 : 10, 3 : 15, 4 : 20, 5 : 25, 6 : 30, 7 : 35, 8 : 40, 9 : 45, 10 : 50}\n",
    "type(Numbers)"
   ]
  },
  {
   "cell_type": "code",
   "execution_count": 150,
   "id": "700e2131",
   "metadata": {},
   "outputs": [
    {
     "name": "stdout",
     "output_type": "stream",
     "text": [
      "5\n",
      "10\n"
     ]
    }
   ],
   "source": [
    "Numbers = {1 : 5, 2 : 10, 3 : 15, 4 : 20, 5 : 25, 6 : 30, 7 : 35, 8 : 40, 9 : 45, 10 : 50}\n",
    "\n",
    "for x in Numbers :\n",
    "    if x % 5 == 0 :\n",
    "        print(x)\n",
    "x = x+1"
   ]
  },
  {
   "cell_type": "markdown",
   "id": "c34c7792",
   "metadata": {},
   "source": [
    "### Dictionary Membership Test"
   ]
  },
  {
   "cell_type": "code",
   "execution_count": 151,
   "id": "3962e7b6",
   "metadata": {},
   "outputs": [
    {
     "name": "stdout",
     "output_type": "stream",
     "text": [
      "True\n"
     ]
    }
   ],
   "source": [
    "# Dictionary membership test using 'in' keyword, 'in' is known as membership operator\n",
    "print(2 in squares)   # Membership test using key only"
   ]
  },
  {
   "cell_type": "code",
   "execution_count": 152,
   "id": "239cf67b",
   "metadata": {},
   "outputs": [
    {
     "name": "stdout",
     "output_type": "stream",
     "text": [
      "0\n",
      "1\n",
      "2\n",
      "3\n",
      "4\n",
      "5\n"
     ]
    }
   ],
   "source": [
    "# We can iterate through each key in a dictionary using a for loop.\n",
    "\n",
    "for x in squares:\n",
    "    print(x)"
   ]
  },
  {
   "cell_type": "code",
   "execution_count": 153,
   "id": "7d5b33f5",
   "metadata": {},
   "outputs": [
    {
     "name": "stdout",
     "output_type": "stream",
     "text": [
      "0\n",
      "1\n",
      "4\n",
      "9\n",
      "16\n",
      "25\n"
     ]
    }
   ],
   "source": [
    "for x in squares:\n",
    "    print(squares[x])"
   ]
  },
  {
   "cell_type": "code",
   "execution_count": 154,
   "id": "d558f878",
   "metadata": {},
   "outputs": [
    {
     "name": "stdout",
     "output_type": "stream",
     "text": [
      "0 0\n",
      "1 1\n",
      "2 4\n",
      "3 9\n",
      "4 16\n",
      "5 25\n"
     ]
    }
   ],
   "source": [
    "for x in squares:\n",
    "    print(x , squares[x])"
   ]
  },
  {
   "cell_type": "code",
   "execution_count": 155,
   "id": "6fcdf90e",
   "metadata": {},
   "outputs": [],
   "source": [
    "l1 = sorted(squares)   # Return a new sorted list of keys in the dictionary."
   ]
  },
  {
   "cell_type": "markdown",
   "id": "2b7c168e",
   "metadata": {},
   "source": [
    "<font color=red> Can you tell me the data type of output ?"
   ]
  },
  {
   "cell_type": "code",
   "execution_count": 156,
   "id": "d166d0b7",
   "metadata": {},
   "outputs": [
    {
     "data": {
      "text/plain": [
       "list"
      ]
     },
     "execution_count": 156,
     "metadata": {},
     "output_type": "execute_result"
    }
   ],
   "source": [
    "type(l1)"
   ]
  },
  {
   "cell_type": "markdown",
   "id": "5dedaed7",
   "metadata": {},
   "source": [
    "### Home Work"
   ]
  },
  {
   "cell_type": "markdown",
   "id": "d1e3df47",
   "metadata": {},
   "source": [
    "1. identify operato 'is' and 'is not'...... \n",
    "\n",
    "\n",
    "2. Bitwise operator ' left shift, right shift, and , or , not , Xor ,..."
   ]
  },
  {
   "cell_type": "code",
   "execution_count": 158,
   "id": "9e5c1b6c",
   "metadata": {},
   "outputs": [
    {
     "name": "stdout",
     "output_type": "stream",
     "text": [
      "x & y  SAME identity\n",
      "x & y have DIFFERENT identity\n"
     ]
    }
   ],
   "source": [
    "x = 20\n",
    "y = 20\n",
    "if ( x is y ):\n",
    "    print (\"x & y  SAME identity\")\n",
    "y=30\n",
    "if ( x is not y ):\n",
    "    print (\"x & y have DIFFERENT identity\")"
   ]
  },
  {
   "cell_type": "code",
   "execution_count": 159,
   "id": "22f8de90",
   "metadata": {},
   "outputs": [
    {
     "name": "stdout",
     "output_type": "stream",
     "text": [
      "True\n"
     ]
    }
   ],
   "source": [
    "x = 20\n",
    "y = 20\n",
    "print(x is y)"
   ]
  },
  {
   "cell_type": "code",
   "execution_count": 160,
   "id": "8fb24c71",
   "metadata": {},
   "outputs": [
    {
     "name": "stdout",
     "output_type": "stream",
     "text": [
      "False\n"
     ]
    }
   ],
   "source": [
    "a = 20\n",
    "b = 20\n",
    "print(a is not b)"
   ]
  },
  {
   "cell_type": "code",
   "execution_count": 161,
   "id": "4bc4ebc1",
   "metadata": {},
   "outputs": [
    {
     "name": "stdout",
     "output_type": "stream",
     "text": [
      "True\n"
     ]
    }
   ],
   "source": [
    "a = [1,2,3,4]\n",
    "b = [1,2,3,4,4,5]\n",
    "print( a is not b)"
   ]
  },
  {
   "cell_type": "code",
   "execution_count": null,
   "id": "df99137d",
   "metadata": {},
   "outputs": [],
   "source": []
  }
 ],
 "metadata": {
  "kernelspec": {
   "display_name": "Python 3",
   "language": "python",
   "name": "python3"
  },
  "language_info": {
   "codemirror_mode": {
    "name": "ipython",
    "version": 3
   },
   "file_extension": ".py",
   "mimetype": "text/x-python",
   "name": "python",
   "nbconvert_exporter": "python",
   "pygments_lexer": "ipython3",
   "version": "3.9.2"
  }
 },
 "nbformat": 4,
 "nbformat_minor": 5
}
