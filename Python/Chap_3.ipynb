{
 "cells": [
  {
   "cell_type": "markdown",
   "id": "59c3499e",
   "metadata": {},
   "source": [
    "### Modules"
   ]
  },
  {
   "cell_type": "code",
   "execution_count": 1,
   "id": "eb91b825",
   "metadata": {},
   "outputs": [
    {
     "data": {
      "text/plain": [
       "20.0"
      ]
     },
     "execution_count": 1,
     "metadata": {},
     "output_type": "execute_result"
    }
   ],
   "source": [
    "import mycalculator\n",
    "mycalculator.div(200,10)"
   ]
  },
  {
   "cell_type": "code",
   "execution_count": 2,
   "id": "9d8afa41",
   "metadata": {},
   "outputs": [
    {
     "data": {
      "text/plain": [
       "30"
      ]
     },
     "execution_count": 2,
     "metadata": {},
     "output_type": "execute_result"
    }
   ],
   "source": [
    "# Import mycalculator as mc # alias\n",
    "\n",
    "import mycalculator as mc\n",
    "mc.add(10,20)"
   ]
  },
  {
   "cell_type": "code",
   "execution_count": 3,
   "id": "65eb9f6a",
   "metadata": {},
   "outputs": [
    {
     "data": {
      "text/plain": [
       "200"
      ]
     },
     "execution_count": 3,
     "metadata": {},
     "output_type": "execute_result"
    }
   ],
   "source": [
    "# From mycalculator import mul # import specific name\n",
    "\n",
    "from mycalculator import mul\n",
    "mul(20,10)"
   ]
  },
  {
   "cell_type": "code",
   "execution_count": 4,
   "id": "4f160501",
   "metadata": {},
   "outputs": [
    {
     "data": {
      "text/plain": [
       "30"
      ]
     },
     "execution_count": 4,
     "metadata": {},
     "output_type": "execute_result"
    }
   ],
   "source": [
    "# From mycalculator import 8 # imported all the defitions from the math modules \n",
    "\n",
    "from mycalculator import *\n",
    "mul(20,10)\n",
    "add(10,20)"
   ]
  },
  {
   "cell_type": "code",
   "execution_count": 5,
   "id": "80c95738",
   "metadata": {},
   "outputs": [
    {
     "data": {
      "text/plain": [
       "100"
      ]
     },
     "execution_count": 5,
     "metadata": {},
     "output_type": "execute_result"
    }
   ],
   "source": [
    "# From mycalculator import add,sub\n",
    "\n",
    "from mycalculator import add,sub\n",
    "sub(20,10)\n",
    "add(50,50)"
   ]
  },
  {
   "cell_type": "code",
   "execution_count": null,
   "id": "554e5f31",
   "metadata": {},
   "outputs": [],
   "source": []
  }
 ],
 "metadata": {
  "kernelspec": {
   "display_name": "Python 3",
   "language": "python",
   "name": "python3"
  },
  "language_info": {
   "codemirror_mode": {
    "name": "ipython",
    "version": 3
   },
   "file_extension": ".py",
   "mimetype": "text/x-python",
   "name": "python",
   "nbconvert_exporter": "python",
   "pygments_lexer": "ipython3",
   "version": "3.9.2"
  }
 },
 "nbformat": 4,
 "nbformat_minor": 5
}
